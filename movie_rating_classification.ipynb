{
  "nbformat": 4,
  "nbformat_minor": 0,
  "metadata": {
    "kernelspec": {
      "display_name": "Python 3",
      "language": "python",
      "name": "python3"
    },
    "language_info": {
      "codemirror_mode": {
        "name": "ipython",
        "version": 3
      },
      "file_extension": ".py",
      "mimetype": "text/x-python",
      "name": "python",
      "nbconvert_exporter": "python",
      "pygments_lexer": "ipython3",
      "version": "3.7.6"
    },
    "colab": {
      "name": "movie_rating_classification.ipynb",
      "provenance": [],
      "collapsed_sections": [],
      "include_colab_link": true
    }
  },
  "cells": [
    {
      "cell_type": "markdown",
      "metadata": {
        "id": "view-in-github",
        "colab_type": "text"
      },
      "source": [
        "<a href=\"https://colab.research.google.com/github/Chiebukar/Deep-Learning/blob/main/movie_rating_classification.ipynb\" target=\"_parent\"><img src=\"https://colab.research.google.com/assets/colab-badge.svg\" alt=\"Open In Colab\"/></a>"
      ]
    },
    {
      "cell_type": "markdown",
      "metadata": {
        "id": "Yx_FVyJHrgh8"
      },
      "source": [
        "# **Binary Classification of movie ratings using IMDB dataset**"
      ]
    },
    {
      "cell_type": "markdown",
      "metadata": {
        "id": "RM1TYEmzEkek"
      },
      "source": [
        "## Import required libraries\n"
      ]
    },
    {
      "cell_type": "code",
      "metadata": {
        "id": "SsYhm97qEke7"
      },
      "source": [
        "import numpy as np\n",
        "import tensorflow as tf\n",
        "from tensorflow import keras"
      ],
      "execution_count": 1,
      "outputs": []
    },
    {
      "cell_type": "markdown",
      "metadata": {
        "id": "kDA5CdoTEke-"
      },
      "source": [
        "## Import the dataset"
      ]
    },
    {
      "cell_type": "code",
      "metadata": {
        "scrolled": true,
        "colab": {
          "base_uri": "https://localhost:8080/"
        },
        "id": "aQufvYQDEke-",
        "outputId": "7caef983-529a-44e8-fc15-331c3db83e7f"
      },
      "source": [
        "from keras.datasets import imdb\n",
        "(train_data, train_label), (test_data, test_label) = imdb.load_data(num_words= 10000)"
      ],
      "execution_count": 2,
      "outputs": [
        {
          "output_type": "stream",
          "text": [
            "Downloading data from https://storage.googleapis.com/tensorflow/tf-keras-datasets/imdb.npz\n",
            "17465344/17464789 [==============================] - 1s 0us/step\n"
          ],
          "name": "stdout"
        },
        {
          "output_type": "stream",
          "text": [
            "<string>:6: VisibleDeprecationWarning: Creating an ndarray from ragged nested sequences (which is a list-or-tuple of lists-or-tuples-or ndarrays with different lengths or shapes) is deprecated. If you meant to do this, you must specify 'dtype=object' when creating the ndarray\n",
            "/usr/local/lib/python3.6/dist-packages/tensorflow/python/keras/datasets/imdb.py:159: VisibleDeprecationWarning: Creating an ndarray from ragged nested sequences (which is a list-or-tuple of lists-or-tuples-or ndarrays with different lengths or shapes) is deprecated. If you meant to do this, you must specify 'dtype=object' when creating the ndarray\n",
            "  x_train, y_train = np.array(xs[:idx]), np.array(labels[:idx])\n",
            "/usr/local/lib/python3.6/dist-packages/tensorflow/python/keras/datasets/imdb.py:160: VisibleDeprecationWarning: Creating an ndarray from ragged nested sequences (which is a list-or-tuple of lists-or-tuples-or ndarrays with different lengths or shapes) is deprecated. If you meant to do this, you must specify 'dtype=object' when creating the ndarray\n",
            "  x_test, y_test = np.array(xs[idx:]), np.array(labels[idx:])\n"
          ],
          "name": "stderr"
        }
      ]
    },
    {
      "cell_type": "markdown",
      "metadata": {
        "id": "62nvuDOWEke_"
      },
      "source": [
        "## Explore the data"
      ]
    },
    {
      "cell_type": "code",
      "metadata": {
        "colab": {
          "base_uri": "https://localhost:8080/"
        },
        "id": "yp4EV8YiEke_",
        "outputId": "7e2a7f58-849d-4353-c835-b5bd27bff6d4"
      },
      "source": [
        "train_data.shape, train_label.shape, test_data.shape, test_label.shape"
      ],
      "execution_count": 3,
      "outputs": [
        {
          "output_type": "execute_result",
          "data": {
            "text/plain": [
              "((25000,), (25000,), (25000,), (25000,))"
            ]
          },
          "metadata": {
            "tags": []
          },
          "execution_count": 3
        }
      ]
    },
    {
      "cell_type": "code",
      "metadata": {
        "colab": {
          "base_uri": "https://localhost:8080/"
        },
        "id": "io1st8whObVj",
        "outputId": "fa7df268-2d65-44f9-dc35-af34e6ee8a71"
      },
      "source": [
        "type(train_data)"
      ],
      "execution_count": 12,
      "outputs": [
        {
          "output_type": "execute_result",
          "data": {
            "text/plain": [
              "numpy.ndarray"
            ]
          },
          "metadata": {
            "tags": []
          },
          "execution_count": 12
        }
      ]
    },
    {
      "cell_type": "code",
      "metadata": {
        "colab": {
          "base_uri": "https://localhost:8080/"
        },
        "id": "e0KrnqtxHohW",
        "outputId": "1a39f74f-44ef-42f7-ffc0-55ae1f564fd5"
      },
      "source": [
        "type(train_data[0])"
      ],
      "execution_count": 5,
      "outputs": [
        {
          "output_type": "execute_result",
          "data": {
            "text/plain": [
              "list"
            ]
          },
          "metadata": {
            "tags": []
          },
          "execution_count": 5
        }
      ]
    },
    {
      "cell_type": "code",
      "metadata": {
        "colab": {
          "base_uri": "https://localhost:8080/"
        },
        "id": "6Y8WbCevEkfA",
        "outputId": "3385e978-15d6-4c02-a206-4dca3e92c338"
      },
      "source": [
        "len(train_data[0]), len(train_data[1])"
      ],
      "execution_count": 10,
      "outputs": [
        {
          "output_type": "execute_result",
          "data": {
            "text/plain": [
              "(218, 189)"
            ]
          },
          "metadata": {
            "tags": []
          },
          "execution_count": 10
        }
      ]
    },
    {
      "cell_type": "code",
      "metadata": {
        "colab": {
          "base_uri": "https://localhost:8080/"
        },
        "id": "EMRjXWWaMATp",
        "outputId": "ba0785ca-ec2c-4bc2-dcb7-61642a171709"
      },
      "source": [
        "type(train_label[0]) , train_label[1].size"
      ],
      "execution_count": 11,
      "outputs": [
        {
          "output_type": "execute_result",
          "data": {
            "text/plain": [
              "(numpy.int64, 1)"
            ]
          },
          "metadata": {
            "tags": []
          },
          "execution_count": 11
        }
      ]
    },
    {
      "cell_type": "markdown",
      "metadata": {
        "id": "NPD6-xWeEkfA"
      },
      "source": [
        "## Data Preprocessing"
      ]
    },
    {
      "cell_type": "code",
      "metadata": {
        "colab": {
          "base_uri": "https://localhost:8080/"
        },
        "id": "EKCg7lntEkfB",
        "outputId": "24b56dc7-d513-4279-97b2-48474289639a"
      },
      "source": [
        "list_len = [len(i) for i in train_data]\n",
        "max(list_len)"
      ],
      "execution_count": 20,
      "outputs": [
        {
          "output_type": "execute_result",
          "data": {
            "text/plain": [
              "2494"
            ]
          },
          "metadata": {
            "tags": []
          },
          "execution_count": 20
        }
      ]
    },
    {
      "cell_type": "code",
      "metadata": {
        "colab": {
          "base_uri": "https://localhost:8080/"
        },
        "id": "29Ld2SkDRsC3",
        "outputId": "e3bd0f01-b3c5-48d0-bbfa-cb9568cdabb0"
      },
      "source": [
        "list_len = [len(i) for i in test_data]\r\n",
        "max(list_len)"
      ],
      "execution_count": 19,
      "outputs": [
        {
          "output_type": "execute_result",
          "data": {
            "text/plain": [
              "2315"
            ]
          },
          "metadata": {
            "tags": []
          },
          "execution_count": 19
        }
      ]
    },
    {
      "cell_type": "markdown",
      "metadata": {
        "id": "UYA_3wbKEkfB"
      },
      "source": [
        "#### Pad each sequence of the input data to the same length"
      ]
    },
    {
      "cell_type": "code",
      "metadata": {
        "id": "KjYqHvjLEkfC"
      },
      "source": [
        "from keras.preprocessing.sequence import pad_sequences\n",
        "train_data = pad_sequences(train_data,\n",
        "                          value = 0,\n",
        "                          padding ='post',\n",
        "                          maxlen = 2494)"
      ],
      "execution_count": 23,
      "outputs": []
    },
    {
      "cell_type": "code",
      "metadata": {
        "id": "DTLbEORLSM1u"
      },
      "source": [
        "test_data = pad_sequences(test_data,\r\n",
        "                         value = 0,\r\n",
        "                         padding = 'post',\r\n",
        "                         maxlen = 2494)"
      ],
      "execution_count": 24,
      "outputs": []
    },
    {
      "cell_type": "code",
      "metadata": {
        "colab": {
          "base_uri": "https://localhost:8080/"
        },
        "id": "LmtXIH1tEkfC",
        "outputId": "096e377c-052c-460d-e5ad-5c95e171c0f6"
      },
      "source": [
        "len(train_data[0]), len(train_data[1])"
      ],
      "execution_count": 25,
      "outputs": [
        {
          "output_type": "execute_result",
          "data": {
            "text/plain": [
              "(2494, 2494)"
            ]
          },
          "metadata": {
            "tags": []
          },
          "execution_count": 25
        }
      ]
    },
    {
      "cell_type": "code",
      "metadata": {
        "id": "BHIN82mTIfAh"
      },
      "source": [
        "train_data[0]"
      ],
      "execution_count": null,
      "outputs": []
    },
    {
      "cell_type": "markdown",
      "metadata": {
        "id": "vQXycrUsEkfD"
      },
      "source": [
        "## Build model"
      ]
    },
    {
      "cell_type": "code",
      "metadata": {
        "id": "gYi2SKcDEkfD"
      },
      "source": [
        "from keras.models import Sequential\n",
        "from keras.layers import Dense, Activation, Embedding, GlobalAveragePooling1D"
      ],
      "execution_count": 28,
      "outputs": []
    },
    {
      "cell_type": "markdown",
      "metadata": {
        "id": "qwKBWfePs_OS"
      },
      "source": [
        "Add an embedding layer to vectorize the data and two dense layer"
      ]
    },
    {
      "cell_type": "code",
      "metadata": {
        "id": "OCHLVmPpEkfE"
      },
      "source": [
        "model = Sequential()\r\n",
        "model.add(Embedding(10000, 16))\r\n",
        "model.add(GlobalAveragePooling1D())\r\n",
        "model.add(Dense(16, activation = 'relu'))\r\n",
        "model.add(Dense(16, activation = 'relu'))\r\n",
        "model.add(Dense(1,  activation = 'sigmoid'))"
      ],
      "execution_count": 31,
      "outputs": []
    },
    {
      "cell_type": "code",
      "metadata": {
        "colab": {
          "base_uri": "https://localhost:8080/"
        },
        "id": "nten4ktMfIhJ",
        "outputId": "459cba89-6bf9-4e1c-e6a2-12daa67733cd"
      },
      "source": [
        "model.summary()"
      ],
      "execution_count": 32,
      "outputs": [
        {
          "output_type": "stream",
          "text": [
            "Model: \"sequential\"\n",
            "_________________________________________________________________\n",
            "Layer (type)                 Output Shape              Param #   \n",
            "=================================================================\n",
            "embedding (Embedding)        (None, None, 16)          160000    \n",
            "_________________________________________________________________\n",
            "global_average_pooling1d (Gl (None, 16)                0         \n",
            "_________________________________________________________________\n",
            "dense (Dense)                (None, 16)                272       \n",
            "_________________________________________________________________\n",
            "dense_1 (Dense)              (None, 16)                272       \n",
            "_________________________________________________________________\n",
            "dense_2 (Dense)              (None, 1)                 17        \n",
            "=================================================================\n",
            "Total params: 160,561\n",
            "Trainable params: 160,561\n",
            "Non-trainable params: 0\n",
            "_________________________________________________________________\n"
          ],
          "name": "stdout"
        }
      ]
    },
    {
      "cell_type": "markdown",
      "metadata": {
        "id": "HgwIJwqVuD6m"
      },
      "source": [
        "Compile the model"
      ]
    },
    {
      "cell_type": "code",
      "metadata": {
        "id": "5qJqTaqLXMlH"
      },
      "source": [
        "model.compile(loss = 'binary_crossentropy',\r\n",
        "               optimizer = 'rmsprop',\r\n",
        "               metrics = ['accuracy'])"
      ],
      "execution_count": 34,
      "outputs": []
    },
    {
      "cell_type": "markdown",
      "metadata": {
        "id": "8G8_ECVPt5Lp"
      },
      "source": [
        "Create validation sets to check model performance and fit the model"
      ]
    },
    {
      "cell_type": "code",
      "metadata": {
        "id": "WHveuImBaLTB"
      },
      "source": [
        "x_val = train_data[:10000]\r\n",
        "y_val = train_label[:10000]\r\n",
        "x_train  = train_data[10000:]\r\n",
        "y_train = train_label[10000:]"
      ],
      "execution_count": 35,
      "outputs": []
    },
    {
      "cell_type": "code",
      "metadata": {
        "colab": {
          "base_uri": "https://localhost:8080/"
        },
        "id": "K1sywIhdXnL8",
        "outputId": "05162dbb-0271-4649-f429-bb2e5faf8c97"
      },
      "source": [
        "history = model.fit(x_train, y_train, validation_data = (x_val, y_val), epochs = 40, batch_size = 512)"
      ],
      "execution_count": 40,
      "outputs": [
        {
          "output_type": "stream",
          "text": [
            "Epoch 1/40\n",
            "30/30 [==============================] - 3s 96ms/step - loss: 0.2134 - accuracy: 0.9207 - val_loss: 0.2892 - val_accuracy: 0.8877\n",
            "Epoch 2/40\n",
            "30/30 [==============================] - 3s 100ms/step - loss: 0.2094 - accuracy: 0.9231 - val_loss: 0.2893 - val_accuracy: 0.8874\n",
            "Epoch 3/40\n",
            "30/30 [==============================] - 3s 98ms/step - loss: 0.2082 - accuracy: 0.9229 - val_loss: 0.2902 - val_accuracy: 0.8870\n",
            "Epoch 4/40\n",
            "30/30 [==============================] - 3s 94ms/step - loss: 0.2045 - accuracy: 0.9250 - val_loss: 0.2879 - val_accuracy: 0.8865\n",
            "Epoch 5/40\n",
            "30/30 [==============================] - 3s 94ms/step - loss: 0.2001 - accuracy: 0.9255 - val_loss: 0.3275 - val_accuracy: 0.8637\n",
            "Epoch 6/40\n",
            "30/30 [==============================] - 3s 94ms/step - loss: 0.1966 - accuracy: 0.9271 - val_loss: 0.2886 - val_accuracy: 0.8874\n",
            "Epoch 7/40\n",
            "30/30 [==============================] - 3s 93ms/step - loss: 0.1946 - accuracy: 0.9278 - val_loss: 0.2907 - val_accuracy: 0.8863\n",
            "Epoch 8/40\n",
            "30/30 [==============================] - 3s 94ms/step - loss: 0.1924 - accuracy: 0.9292 - val_loss: 0.3091 - val_accuracy: 0.8754\n",
            "Epoch 9/40\n",
            "30/30 [==============================] - 3s 94ms/step - loss: 0.1901 - accuracy: 0.9281 - val_loss: 0.2829 - val_accuracy: 0.8918\n",
            "Epoch 10/40\n",
            "30/30 [==============================] - 3s 93ms/step - loss: 0.1865 - accuracy: 0.9311 - val_loss: 0.3121 - val_accuracy: 0.8746\n",
            "Epoch 11/40\n",
            "30/30 [==============================] - 3s 94ms/step - loss: 0.1827 - accuracy: 0.9339 - val_loss: 0.3095 - val_accuracy: 0.8716\n",
            "Epoch 12/40\n",
            "30/30 [==============================] - 3s 93ms/step - loss: 0.1804 - accuracy: 0.9335 - val_loss: 0.3243 - val_accuracy: 0.8674\n",
            "Epoch 13/40\n",
            "30/30 [==============================] - 3s 94ms/step - loss: 0.1775 - accuracy: 0.9341 - val_loss: 0.3067 - val_accuracy: 0.8744\n",
            "Epoch 14/40\n",
            "30/30 [==============================] - 3s 93ms/step - loss: 0.1766 - accuracy: 0.9353 - val_loss: 0.2941 - val_accuracy: 0.8809\n",
            "Epoch 15/40\n",
            "30/30 [==============================] - 3s 93ms/step - loss: 0.1727 - accuracy: 0.9379 - val_loss: 0.2958 - val_accuracy: 0.8851\n",
            "Epoch 16/40\n",
            "30/30 [==============================] - 3s 94ms/step - loss: 0.1693 - accuracy: 0.9401 - val_loss: 0.3007 - val_accuracy: 0.8791\n",
            "Epoch 17/40\n",
            "30/30 [==============================] - 3s 94ms/step - loss: 0.1689 - accuracy: 0.9391 - val_loss: 0.2847 - val_accuracy: 0.8893\n",
            "Epoch 18/40\n",
            "30/30 [==============================] - 3s 94ms/step - loss: 0.1669 - accuracy: 0.9410 - val_loss: 0.3119 - val_accuracy: 0.8765\n",
            "Epoch 19/40\n",
            "30/30 [==============================] - 3s 94ms/step - loss: 0.1659 - accuracy: 0.9396 - val_loss: 0.2817 - val_accuracy: 0.8947\n",
            "Epoch 20/40\n",
            "30/30 [==============================] - 3s 94ms/step - loss: 0.1610 - accuracy: 0.9421 - val_loss: 0.3201 - val_accuracy: 0.8690\n",
            "Epoch 21/40\n",
            "30/30 [==============================] - 3s 95ms/step - loss: 0.1576 - accuracy: 0.9437 - val_loss: 0.2996 - val_accuracy: 0.8843\n",
            "Epoch 22/40\n",
            "30/30 [==============================] - 3s 94ms/step - loss: 0.1596 - accuracy: 0.9419 - val_loss: 0.2823 - val_accuracy: 0.8946\n",
            "Epoch 23/40\n",
            "30/30 [==============================] - 3s 93ms/step - loss: 0.1549 - accuracy: 0.9450 - val_loss: 0.2856 - val_accuracy: 0.8927\n",
            "Epoch 24/40\n",
            "30/30 [==============================] - 3s 95ms/step - loss: 0.1504 - accuracy: 0.9479 - val_loss: 0.2879 - val_accuracy: 0.8910\n",
            "Epoch 25/40\n",
            "30/30 [==============================] - 3s 94ms/step - loss: 0.1508 - accuracy: 0.9461 - val_loss: 0.2945 - val_accuracy: 0.8880\n",
            "Epoch 26/40\n",
            "30/30 [==============================] - 3s 93ms/step - loss: 0.1478 - accuracy: 0.9461 - val_loss: 0.3483 - val_accuracy: 0.8627\n",
            "Epoch 27/40\n",
            "30/30 [==============================] - 3s 93ms/step - loss: 0.1482 - accuracy: 0.9475 - val_loss: 0.2912 - val_accuracy: 0.8888\n",
            "Epoch 28/40\n",
            "30/30 [==============================] - 3s 94ms/step - loss: 0.1415 - accuracy: 0.9509 - val_loss: 0.3049 - val_accuracy: 0.8819\n",
            "Epoch 29/40\n",
            "30/30 [==============================] - 3s 94ms/step - loss: 0.1416 - accuracy: 0.9513 - val_loss: 0.3158 - val_accuracy: 0.8762\n",
            "Epoch 30/40\n",
            "30/30 [==============================] - 3s 95ms/step - loss: 0.1437 - accuracy: 0.9495 - val_loss: 0.3038 - val_accuracy: 0.8848\n",
            "Epoch 31/40\n",
            "30/30 [==============================] - 3s 94ms/step - loss: 0.1372 - accuracy: 0.9536 - val_loss: 0.3003 - val_accuracy: 0.8858\n",
            "Epoch 32/40\n",
            "30/30 [==============================] - 3s 94ms/step - loss: 0.1380 - accuracy: 0.9495 - val_loss: 0.3084 - val_accuracy: 0.8837\n",
            "Epoch 33/40\n",
            "30/30 [==============================] - 3s 94ms/step - loss: 0.1337 - accuracy: 0.9535 - val_loss: 0.2899 - val_accuracy: 0.8929\n",
            "Epoch 34/40\n",
            "30/30 [==============================] - 3s 94ms/step - loss: 0.1343 - accuracy: 0.9520 - val_loss: 0.3078 - val_accuracy: 0.8830\n",
            "Epoch 35/40\n",
            "30/30 [==============================] - 3s 93ms/step - loss: 0.1314 - accuracy: 0.9537 - val_loss: 0.3046 - val_accuracy: 0.8862\n",
            "Epoch 36/40\n",
            "30/30 [==============================] - 3s 94ms/step - loss: 0.1351 - accuracy: 0.9511 - val_loss: 0.2952 - val_accuracy: 0.8913\n",
            "Epoch 37/40\n",
            "30/30 [==============================] - 3s 93ms/step - loss: 0.1271 - accuracy: 0.9558 - val_loss: 0.2960 - val_accuracy: 0.8912\n",
            "Epoch 38/40\n",
            "30/30 [==============================] - 3s 94ms/step - loss: 0.1277 - accuracy: 0.9557 - val_loss: 0.3004 - val_accuracy: 0.8886\n",
            "Epoch 39/40\n",
            "30/30 [==============================] - 3s 94ms/step - loss: 0.1261 - accuracy: 0.9549 - val_loss: 0.2941 - val_accuracy: 0.8939\n",
            "Epoch 40/40\n",
            "30/30 [==============================] - 3s 95ms/step - loss: 0.1272 - accuracy: 0.9554 - val_loss: 0.2969 - val_accuracy: 0.8915\n"
          ],
          "name": "stdout"
        }
      ]
    },
    {
      "cell_type": "markdown",
      "metadata": {
        "id": "qzoJBsBouXod"
      },
      "source": [
        "Visualize model performance and check for overfitting"
      ]
    },
    {
      "cell_type": "code",
      "metadata": {
        "id": "YvvZMA1XiWuW"
      },
      "source": [
        "import matplotlib.pyplot as plt\r\n",
        "%matplotlib inline"
      ],
      "execution_count": 41,
      "outputs": []
    },
    {
      "cell_type": "code",
      "metadata": {
        "id": "EZrF6iw0iy71"
      },
      "source": [
        "loss = history.history['loss']\r\n",
        "val_loss = history.history['val_loss']\r\n",
        "epochs =range(1, len(loss)+1)"
      ],
      "execution_count": 42,
      "outputs": []
    },
    {
      "cell_type": "code",
      "metadata": {
        "colab": {
          "base_uri": "https://localhost:8080/",
          "height": 422
        },
        "id": "UCqvxDC2kap2",
        "outputId": "53cf34f3-d40e-49fc-f5b9-0abd5fb9c68c"
      },
      "source": [
        "plt.figure(dpi= 100)\r\n",
        "plt.plot(epochs, loss, 'bo', label = 'Training Loss')\r\n",
        "plt.plot(epochs, val_loss, 'b', label = 'Validation Loss')\r\n",
        "plt.title('Training and validation loss')\r\n",
        "plt.xlabel('Epochs')\r\n",
        "plt.ylabel('Loss')\r\n",
        "plt.legend()\r\n",
        "\r\n",
        "plt.show"
      ],
      "execution_count": 50,
      "outputs": [
        {
          "output_type": "execute_result",
          "data": {
            "text/plain": [
              "<function matplotlib.pyplot.show>"
            ]
          },
          "metadata": {
            "tags": []
          },
          "execution_count": 50
        },
        {
          "output_type": "display_data",
          "data": {
            "image/png": "[encoded data removed]",
            "text/plain": [
              "<Figure size 600x400 with 1 Axes>"
            ]
          },
          "metadata": {
            "tags": [],
            "needs_background": "light"
          }
        }
      ]
    },
    {
      "cell_type": "code",
      "metadata": {
        "id": "8LaB47JPltoj"
      },
      "source": [
        "accuracy = history.history['accuracy']\r\n",
        "val_accuracy = history.history['val_accuracy']"
      ],
      "execution_count": 47,
      "outputs": []
    },
    {
      "cell_type": "code",
      "metadata": {
        "colab": {
          "base_uri": "https://localhost:8080/",
          "height": 422
        },
        "id": "bxEIwYval_gO",
        "outputId": "2ffc346d-784b-4c57-dd87-c8742aea5dfc"
      },
      "source": [
        "plt.figure(dpi= 100)\r\n",
        "plt.plot(epochs, accuracy, 'bo', label = 'Training accuracy')\r\n",
        "plt.plot(epochs, val_accuracy, 'b', label = 'Validation accuracy')\r\n",
        "plt.title('Training and validation accuracy')\r\n",
        "plt.xlabel('Epochs')\r\n",
        "plt.ylabel('Accuracy')\r\n",
        "plt.legend()\r\n",
        "\r\n",
        "plt.show"
      ],
      "execution_count": 49,
      "outputs": [
        {
          "output_type": "execute_result",
          "data": {
            "text/plain": [
              "<function matplotlib.pyplot.show>"
            ]
          },
          "metadata": {
            "tags": []
          },
          "execution_count": 49
        },
        {
          "output_type": "display_data",
          "data": {
            "image/png": "[encoded data removed]",
            "text/plain": [
              "<Figure size 600x400 with 1 Axes>"
            ]
          },
          "metadata": {
            "tags": [],
            "needs_background": "light"
          }
        }
      ]
    },
    {
      "cell_type": "markdown",
      "metadata": {
        "id": "ZXvoTJwZukuA"
      },
      "source": [
        "Reduce the complexity of the network to avoid overfitting and re- fit the model on the original training set"
      ]
    },
    {
      "cell_type": "code",
      "metadata": {
        "colab": {
          "base_uri": "https://localhost:8080/"
        },
        "id": "Ar0gwyxdohuE",
        "outputId": "20d836ee-c6d2-49e5-97be-ddce28ecddc9"
      },
      "source": [
        "model.fit(train_data, train_label,epochs = 22, batch_size = 512)"
      ],
      "execution_count": 52,
      "outputs": [
        {
          "output_type": "stream",
          "text": [
            "Epoch 1/22\n",
            "49/49 [==============================] - 4s 76ms/step - loss: 0.1492 - accuracy: 0.9468\n",
            "Epoch 2/22\n",
            "49/49 [==============================] - 4s 77ms/step - loss: 0.1469 - accuracy: 0.9470\n",
            "Epoch 3/22\n",
            "49/49 [==============================] - 4s 77ms/step - loss: 0.1478 - accuracy: 0.9467\n",
            "Epoch 4/22\n",
            "49/49 [==============================] - 4s 76ms/step - loss: 0.1439 - accuracy: 0.9492\n",
            "Epoch 5/22\n",
            "49/49 [==============================] - 4s 76ms/step - loss: 0.1420 - accuracy: 0.9502\n",
            "Epoch 6/22\n",
            "49/49 [==============================] - 4s 76ms/step - loss: 0.1409 - accuracy: 0.9494\n",
            "Epoch 7/22\n",
            "49/49 [==============================] - 4s 75ms/step - loss: 0.1421 - accuracy: 0.9496\n",
            "Epoch 8/22\n",
            "49/49 [==============================] - 4s 76ms/step - loss: 0.1382 - accuracy: 0.9520\n",
            "Epoch 9/22\n",
            "49/49 [==============================] - 4s 76ms/step - loss: 0.1399 - accuracy: 0.9498\n",
            "Epoch 10/22\n",
            "49/49 [==============================] - 4s 75ms/step - loss: 0.1362 - accuracy: 0.9519\n",
            "Epoch 11/22\n",
            "49/49 [==============================] - 4s 77ms/step - loss: 0.1343 - accuracy: 0.9528\n",
            "Epoch 12/22\n",
            "49/49 [==============================] - 4s 77ms/step - loss: 0.1338 - accuracy: 0.9532\n",
            "Epoch 13/22\n",
            "49/49 [==============================] - 4s 76ms/step - loss: 0.1317 - accuracy: 0.9532\n",
            "Epoch 14/22\n",
            "49/49 [==============================] - 4s 75ms/step - loss: 0.1310 - accuracy: 0.9542\n",
            "Epoch 15/22\n",
            "49/49 [==============================] - 4s 77ms/step - loss: 0.1250 - accuracy: 0.9576\n",
            "Epoch 16/22\n",
            "49/49 [==============================] - 4s 75ms/step - loss: 0.1298 - accuracy: 0.9543\n",
            "Epoch 17/22\n",
            "49/49 [==============================] - 4s 76ms/step - loss: 0.1274 - accuracy: 0.9549\n",
            "Epoch 18/22\n",
            "49/49 [==============================] - 4s 77ms/step - loss: 0.1238 - accuracy: 0.9579\n",
            "Epoch 19/22\n",
            "49/49 [==============================] - 4s 77ms/step - loss: 0.1239 - accuracy: 0.9587\n",
            "Epoch 20/22\n",
            "49/49 [==============================] - 4s 76ms/step - loss: 0.1256 - accuracy: 0.9561\n",
            "Epoch 21/22\n",
            "49/49 [==============================] - 4s 77ms/step - loss: 0.1234 - accuracy: 0.9574\n",
            "Epoch 22/22\n",
            "49/49 [==============================] - 4s 76ms/step - loss: 0.1229 - accuracy: 0.9586\n"
          ],
          "name": "stdout"
        },
        {
          "output_type": "execute_result",
          "data": {
            "text/plain": [
              "<tensorflow.python.keras.callbacks.History at 0x7f384ae14518>"
            ]
          },
          "metadata": {
            "tags": []
          },
          "execution_count": 52
        }
      ]
    },
    {
      "cell_type": "markdown",
      "metadata": {
        "id": "COfV6RqMu_Cf"
      },
      "source": [
        "Evaluate model performanceon test set"
      ]
    },
    {
      "cell_type": "code",
      "metadata": {
        "colab": {
          "base_uri": "https://localhost:8080/"
        },
        "id": "WHAQn7WGqd7_",
        "outputId": "0c58eee2-b48c-4a45-d801-83ebdb7b1353"
      },
      "source": [
        "results = model.evaluate(test_data, test_label)"
      ],
      "execution_count": 53,
      "outputs": [
        {
          "output_type": "stream",
          "text": [
            "782/782 [==============================] - 3s 3ms/step - loss: 0.3731 - accuracy: 0.8671\n"
          ],
          "name": "stdout"
        }
      ]
    }
  ]
}