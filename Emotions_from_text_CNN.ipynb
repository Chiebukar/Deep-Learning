{
  "nbformat": 4,
  "nbformat_minor": 0,
  "metadata": {
    "colab": {
      "name": "Emotions_from_text_CNN.ipynb",
      "provenance": [],
      "collapsed_sections": [],
      "authorship_tag": "ABX9TyMd6WM4nZnAhYoZQuDtXDNf"
    },
    "kernelspec": {
      "name": "python3",
      "display_name": "Python 3"
    },
    "accelerator": "GPU"
  },
  "cells": [
    {
      "cell_type": "markdown",
      "metadata": {
        "id": "KtgLXCpp55-K"
      },
      "source": [
        "## Predict emotions using text inputs"
      ]
    },
    {
      "cell_type": "code",
      "metadata": {
        "id": "UU5K1EDgYNua"
      },
      "source": [
        "from google.colab import files\r\n",
        "files.upload()"
      ],
      "execution_count": null,
      "outputs": []
    },
    {
      "cell_type": "code",
      "metadata": {
        "id": "IOO08s7PZxWX"
      },
      "source": [
        "# create directory and move kaggle.json to directory\r\n",
        "!mkdir -p ~/.kaggle\r\n",
        "!cp kaggle.json ~/.kaggle/\r\n",
        "!chmod 600 ~/.kaggle/kaggle.json"
      ],
      "execution_count": 2,
      "outputs": []
    },
    {
      "cell_type": "code",
      "metadata": {
        "colab": {
          "base_uri": "https://localhost:8080/"
        },
        "id": "aHvA3L84Z3Iu",
        "outputId": "a3f29ed7-67ba-48bb-f62a-b26d67d841c6"
      },
      "source": [
        "# download dataset\r\n",
        "!kaggle datasets download -d praveengovi/emotions-dataset-for-nlp"
      ],
      "execution_count": 3,
      "outputs": [
        {
          "output_type": "stream",
          "text": [
            "Downloading emotions-dataset-for-nlp.zip to /content\n",
            "\r  0% 0.00/721k [00:00<?, ?B/s]\n",
            "\r100% 721k/721k [00:00<00:00, 47.6MB/s]\n"
          ],
          "name": "stdout"
        }
      ]
    },
    {
      "cell_type": "code",
      "metadata": {
        "colab": {
          "base_uri": "https://localhost:8080/"
        },
        "id": "2z55lCDBZ-YH",
        "outputId": "dd65ae2b-ef67-40b1-b92e-21d7b320adc2"
      },
      "source": [
        "# View downloaded files\r\n",
        "!ls -d $PWD/*"
      ],
      "execution_count": 4,
      "outputs": [
        {
          "output_type": "stream",
          "text": [
            " /content/a_weights.best.hdf5\t\t /content/sample_data\n",
            " /content/emotions-dataset-for-nlp.zip\t /content/test.txt\n",
            "'/content/kaggle (1).json'\t\t /content/train.txt\n",
            " /content/kaggle.json\t\t\t /content/val.txt\n"
          ],
          "name": "stdout"
        }
      ]
    },
    {
      "cell_type": "code",
      "metadata": {
        "id": "qkiBJaK8aqVH"
      },
      "source": [
        "# Unzip files\r\n",
        "!unzip \\*.zip && rm *.zip"
      ],
      "execution_count": null,
      "outputs": []
    },
    {
      "cell_type": "code",
      "metadata": {
        "colab": {
          "base_uri": "https://localhost:8080/"
        },
        "id": "Fr8_ivvOayKl",
        "outputId": "4e9eff4d-7f37-432a-c5fb-974ac0424489"
      },
      "source": [
        "# View unzipped  files\r\n",
        "!ls -d $PWD/*"
      ],
      "execution_count": 6,
      "outputs": [
        {
          "output_type": "stream",
          "text": [
            " /content/a_weights.best.hdf5\t\t /content/sample_data\n",
            " /content/emotions-dataset-for-nlp.zip\t /content/test.txt\n",
            "'/content/kaggle (1).json'\t\t /content/train.txt\n",
            " /content/kaggle.json\t\t\t /content/val.txt\n"
          ],
          "name": "stdout"
        }
      ]
    },
    {
      "cell_type": "code",
      "metadata": {
        "id": "nMmHQN5UbYPF"
      },
      "source": [
        "# import required libraries\r\n",
        "import numpy as np\r\n",
        "import pandas as pd\r\n",
        "import matplotlib.pyplot as plt\r\n",
        "import warnings\r\n",
        "warnings.filterwarnings(\"ignore\")"
      ],
      "execution_count": 32,
      "outputs": []
    },
    {
      "cell_type": "code",
      "metadata": {
        "id": "e5ON-ZdSa7tX"
      },
      "source": [
        "# read data into dataframe\r\n",
        "train_data = pd.read_csv('/content/train.txt', sep=';', header=None, names=['input', 'sentiment'])\r\n",
        "val_data = pd.read_csv('/content/val.txt', sep=';', header=None, names=['input', 'sentiment'])\r\n",
        "test_data = pd.read_csv('/content/train.txt', sep=';', header=None, names=['input', 'sentiment'])"
      ],
      "execution_count": 33,
      "outputs": []
    },
    {
      "cell_type": "code",
      "metadata": {
        "colab": {
          "base_uri": "https://localhost:8080/"
        },
        "id": "D53okF_rbr05",
        "outputId": "c3dfbd89-76fa-4bd6-88a8-fc983857f81e"
      },
      "source": [
        "print('The shape of train data: {}'.format(train_data.shape))\r\n",
        "print('The shape of val data: {}'.format(val_data.shape))\r\n",
        "print('The shape of test data: {}'.format(test_data.shape))"
      ],
      "execution_count": 34,
      "outputs": [
        {
          "output_type": "stream",
          "text": [
            "The shape of train data: (16000, 2)\n",
            "The shape of val data: (2000, 2)\n",
            "The shape of test data: (16000, 2)\n"
          ],
          "name": "stdout"
        }
      ]
    },
    {
      "cell_type": "code",
      "metadata": {
        "colab": {
          "base_uri": "https://localhost:8080/",
          "height": 166
        },
        "id": "GWnURvYEcLG5",
        "outputId": "2de1b265-dced-4cc9-e017-e19902a01836"
      },
      "source": [
        "# display first 4 rows  of train data\r\n",
        "train_data.head(4)"
      ],
      "execution_count": 35,
      "outputs": [
        {
          "output_type": "execute_result",
          "data": {
            "text/html": [
              "<div>\n",
              "<style scoped>\n",
              "    .dataframe tbody tr th:only-of-type {\n",
              "        vertical-align: middle;\n",
              "    }\n",
              "\n",
              "    .dataframe tbody tr th {\n",
              "        vertical-align: top;\n",
              "    }\n",
              "\n",
              "    .dataframe thead th {\n",
              "        text-align: right;\n",
              "    }\n",
              "</style>\n",
              "<table border=\"1\" class=\"dataframe\">\n",
              "  <thead>\n",
              "    <tr style=\"text-align: right;\">\n",
              "      <th></th>\n",
              "      <th>input</th>\n",
              "      <th>sentiment</th>\n",
              "    </tr>\n",
              "  </thead>\n",
              "  <tbody>\n",
              "    <tr>\n",
              "      <th>0</th>\n",
              "      <td>i didnt feel humiliated</td>\n",
              "      <td>sadness</td>\n",
              "    </tr>\n",
              "    <tr>\n",
              "      <th>1</th>\n",
              "      <td>i can go from feeling so hopeless to so damned...</td>\n",
              "      <td>sadness</td>\n",
              "    </tr>\n",
              "    <tr>\n",
              "      <th>2</th>\n",
              "      <td>im grabbing a minute to post i feel greedy wrong</td>\n",
              "      <td>anger</td>\n",
              "    </tr>\n",
              "    <tr>\n",
              "      <th>3</th>\n",
              "      <td>i am ever feeling nostalgic about the fireplac...</td>\n",
              "      <td>love</td>\n",
              "    </tr>\n",
              "  </tbody>\n",
              "</table>\n",
              "</div>"
            ],
            "text/plain": [
              "                                               input sentiment\n",
              "0                            i didnt feel humiliated   sadness\n",
              "1  i can go from feeling so hopeless to so damned...   sadness\n",
              "2   im grabbing a minute to post i feel greedy wrong     anger\n",
              "3  i am ever feeling nostalgic about the fireplac...      love"
            ]
          },
          "metadata": {
            "tags": []
          },
          "execution_count": 35
        }
      ]
    },
    {
      "cell_type": "code",
      "metadata": {
        "colab": {
          "base_uri": "https://localhost:8080/"
        },
        "id": "V5AyShmReLhM",
        "outputId": "0f721e9e-50dd-46ac-99d9-8b34a9832417"
      },
      "source": [
        "# check for null values in dataframes\r\n",
        "for data in [train_data, val_data, test_data]:\r\n",
        "  print(data.isna().sum(), '\\n')"
      ],
      "execution_count": 36,
      "outputs": [
        {
          "output_type": "stream",
          "text": [
            "input        0\n",
            "sentiment    0\n",
            "dtype: int64 \n",
            "\n",
            "input        0\n",
            "sentiment    0\n",
            "dtype: int64 \n",
            "\n",
            "input        0\n",
            "sentiment    0\n",
            "dtype: int64 \n",
            "\n"
          ],
          "name": "stdout"
        }
      ]
    },
    {
      "cell_type": "code",
      "metadata": {
        "colab": {
          "base_uri": "https://localhost:8080/"
        },
        "id": "vBOd5jXqoTKZ",
        "outputId": "09a5d748-25ec-4e19-b542-4821fe9496b7"
      },
      "source": [
        "# display unique labels\r\n",
        "train_data['sentiment'].unique()"
      ],
      "execution_count": 37,
      "outputs": [
        {
          "output_type": "execute_result",
          "data": {
            "text/plain": [
              "array(['sadness', 'anger', 'love', 'surprise', 'fear', 'joy'],\n",
              "      dtype=object)"
            ]
          },
          "metadata": {
            "tags": []
          },
          "execution_count": 37
        }
      ]
    },
    {
      "cell_type": "code",
      "metadata": {
        "colab": {
          "base_uri": "https://localhost:8080/",
          "height": 343
        },
        "id": "-moAMRbtoneD",
        "outputId": "ce801775-f48d-4ffe-9ea4-227abdb34d1b"
      },
      "source": [
        "# visualize sentiment distribution \r\n",
        "train_data['sentiment'].value_counts().plot(kind='bar')\r\n",
        "plt.xlabel('Sentiment')\r\n",
        "plt.ylabel('Count')\r\n",
        "plt.title('Count of Sentiments')"
      ],
      "execution_count": 38,
      "outputs": [
        {
          "output_type": "execute_result",
          "data": {
            "text/plain": [
              "Text(0.5, 1.0, 'Count of Sentiments')"
            ]
          },
          "metadata": {
            "tags": []
          },
          "execution_count": 38
        },
        {
          "output_type": "display_data",
          "data": {
            "image/png": "[encoded data removed]",
            "text/plain": [
              "<Figure size 432x288 with 1 Axes>"
            ]
          },
          "metadata": {
            "tags": [],
            "needs_background": "light"
          }
        }
      ]
    },
    {
      "cell_type": "code",
      "metadata": {
        "colab": {
          "base_uri": "https://localhost:8080/",
          "height": 136
        },
        "id": "9bs3gnH0dQOE",
        "outputId": "14fc82dc-6d3b-4071-e97f-a0e7c3ade327"
      },
      "source": [
        "train_data.head(3)"
      ],
      "execution_count": 39,
      "outputs": [
        {
          "output_type": "execute_result",
          "data": {
            "text/html": [
              "<div>\n",
              "<style scoped>\n",
              "    .dataframe tbody tr th:only-of-type {\n",
              "        vertical-align: middle;\n",
              "    }\n",
              "\n",
              "    .dataframe tbody tr th {\n",
              "        vertical-align: top;\n",
              "    }\n",
              "\n",
              "    .dataframe thead th {\n",
              "        text-align: right;\n",
              "    }\n",
              "</style>\n",
              "<table border=\"1\" class=\"dataframe\">\n",
              "  <thead>\n",
              "    <tr style=\"text-align: right;\">\n",
              "      <th></th>\n",
              "      <th>input</th>\n",
              "      <th>sentiment</th>\n",
              "    </tr>\n",
              "  </thead>\n",
              "  <tbody>\n",
              "    <tr>\n",
              "      <th>0</th>\n",
              "      <td>i didnt feel humiliated</td>\n",
              "      <td>sadness</td>\n",
              "    </tr>\n",
              "    <tr>\n",
              "      <th>1</th>\n",
              "      <td>i can go from feeling so hopeless to so damned...</td>\n",
              "      <td>sadness</td>\n",
              "    </tr>\n",
              "    <tr>\n",
              "      <th>2</th>\n",
              "      <td>im grabbing a minute to post i feel greedy wrong</td>\n",
              "      <td>anger</td>\n",
              "    </tr>\n",
              "  </tbody>\n",
              "</table>\n",
              "</div>"
            ],
            "text/plain": [
              "                                               input sentiment\n",
              "0                            i didnt feel humiliated   sadness\n",
              "1  i can go from feeling so hopeless to so damned...   sadness\n",
              "2   im grabbing a minute to post i feel greedy wrong     anger"
            ]
          },
          "metadata": {
            "tags": []
          },
          "execution_count": 39
        }
      ]
    },
    {
      "cell_type": "code",
      "metadata": {
        "id": "2yoGsPpKijn3"
      },
      "source": [
        "# seperate features and labels\r\n",
        "train_features = train_data['input']\r\n",
        "train_labels = train_data['sentiment']\r\n",
        "\r\n",
        "val_features = val_data['input']\r\n",
        "val_labels = val_data['sentiment']\r\n",
        "\r\n",
        "test_features = test_data['input']\r\n",
        "test_labels = test_data['sentiment']"
      ],
      "execution_count": 40,
      "outputs": []
    },
    {
      "cell_type": "code",
      "metadata": {
        "id": "7JkAy--Kk0aw"
      },
      "source": [
        "# import LabelEncoder\r\n",
        "from sklearn.preprocessing import LabelEncoder\r\n",
        "from keras.utils import to_categorical"
      ],
      "execution_count": 41,
      "outputs": []
    },
    {
      "cell_type": "code",
      "metadata": {
        "colab": {
          "base_uri": "https://localhost:8080/"
        },
        "id": "qnMxSvZckfyy",
        "outputId": "b413795e-b743-47ce-dca6-429b16e9c179"
      },
      "source": [
        "#one hot encode labels\r\n",
        "encoder = LabelEncoder()\r\n",
        "encoder.fit(train_labels)\r\n",
        "\r\n",
        "train_labels = to_categorical(encoder.transform(train_labels))\r\n",
        "val_labels =   to_categorical(encoder.transform(val_labels))\r\n",
        "test_labels =  to_categorical(encoder.transform(test_labels))\r\n",
        "\r\n",
        "for label in [train_labels, val_labels, test_labels]:\r\n",
        "  print(label[:3], '\\n')"
      ],
      "execution_count": 42,
      "outputs": [
        {
          "output_type": "stream",
          "text": [
            "[[0. 0. 0. 0. 1. 0.]\n",
            " [0. 0. 0. 0. 1. 0.]\n",
            " [1. 0. 0. 0. 0. 0.]] \n",
            "\n",
            "[[0. 0. 0. 0. 1. 0.]\n",
            " [0. 0. 0. 0. 1. 0.]\n",
            " [0. 0. 0. 1. 0. 0.]] \n",
            "\n",
            "[[0. 0. 0. 0. 1. 0.]\n",
            " [0. 0. 0. 0. 1. 0.]\n",
            " [1. 0. 0. 0. 0. 0.]] \n",
            "\n"
          ],
          "name": "stdout"
        }
      ]
    },
    {
      "cell_type": "code",
      "metadata": {
        "colab": {
          "base_uri": "https://localhost:8080/"
        },
        "id": "BitUyIA2s_OE",
        "outputId": "ae5ae425-340f-42dc-ba2e-e6462ca7e66b"
      },
      "source": [
        "classes =encoder.classes_\r\n",
        "classes"
      ],
      "execution_count": 43,
      "outputs": [
        {
          "output_type": "execute_result",
          "data": {
            "text/plain": [
              "array(['anger', 'fear', 'joy', 'love', 'sadness', 'surprise'],\n",
              "      dtype=object)"
            ]
          },
          "metadata": {
            "tags": []
          },
          "execution_count": 43
        }
      ]
    },
    {
      "cell_type": "code",
      "metadata": {
        "id": "tEPAbPBFG4Rv"
      },
      "source": [
        "# import counter\r\n",
        "from collections import Counter"
      ],
      "execution_count": 44,
      "outputs": []
    },
    {
      "cell_type": "code",
      "metadata": {
        "id": "7c_PmPpOEYQB"
      },
      "source": [
        "# get count of unique words in input\r\n",
        "def get_num_of_words(data, text_column= 'input'):\r\n",
        "  results = Counter()\r\n",
        "  data[text_column].str.lower().str.split().apply(results.update)\r\n",
        "  return len(results)"
      ],
      "execution_count": 45,
      "outputs": []
    },
    {
      "cell_type": "code",
      "metadata": {
        "colab": {
          "base_uri": "https://localhost:8080/"
        },
        "id": "hNeBKRmdIo7b",
        "outputId": "71351033-d20b-41cf-fe8d-d063280a1c5b"
      },
      "source": [
        "num_words = get_num_of_words(train_data)\r\n",
        "num_words"
      ],
      "execution_count": 46,
      "outputs": [
        {
          "output_type": "execute_result",
          "data": {
            "text/plain": [
              "15212"
            ]
          },
          "metadata": {
            "tags": []
          },
          "execution_count": 46
        }
      ]
    },
    {
      "cell_type": "code",
      "metadata": {
        "id": "zudUzarPJ14V"
      },
      "source": [
        "# get maximum length of text\r\n",
        "def get_max_len(data, text_column='input'):\r\n",
        "   max_len = data[text_column].map(len).max()\r\n",
        "   return max_len"
      ],
      "execution_count": 47,
      "outputs": []
    },
    {
      "cell_type": "code",
      "metadata": {
        "colab": {
          "base_uri": "https://localhost:8080/"
        },
        "id": "loMncsacLk7f",
        "outputId": "74f3e70a-48c1-4a44-a508-d2b7f3425a15"
      },
      "source": [
        "max_len = get_max_len(train_data)\r\n",
        "max_len"
      ],
      "execution_count": 48,
      "outputs": [
        {
          "output_type": "execute_result",
          "data": {
            "text/plain": [
              "300"
            ]
          },
          "metadata": {
            "tags": []
          },
          "execution_count": 48
        }
      ]
    },
    {
      "cell_type": "code",
      "metadata": {
        "id": "VEbHw5TbTS2A"
      },
      "source": [
        "from keras.preprocessing.text import Tokenizer\r\n",
        "from keras.preprocessing.sequence import pad_sequences"
      ],
      "execution_count": 49,
      "outputs": []
    },
    {
      "cell_type": "code",
      "metadata": {
        "id": "ZDsVDH4ve9vr"
      },
      "source": [
        "# tokenize data\r\n",
        "def tokenize(data, fit_data=train_features, num_words=15000, max_len=100):\r\n",
        "  tokenizer = Tokenizer(num_words=num_words, oov_token='UNK')\r\n",
        "  tokenizer.fit_on_texts(fit_data)\r\n",
        "  sequences = tokenizer.texts_to_sequences(data)\r\n",
        "  data = pad_sequences(sequences, max_len, padding='post', value =0)\r\n",
        "  return data"
      ],
      "execution_count": 50,
      "outputs": []
    },
    {
      "cell_type": "code",
      "metadata": {
        "id": "cYfF6r_sZhQU"
      },
      "source": [
        "# convert the text inputs to vectors\r\n",
        "x_train = tokenize(train_features)\r\n",
        "x_val = tokenize(val_features)\r\n",
        "x_test = tokenize(test_features)"
      ],
      "execution_count": 51,
      "outputs": []
    },
    {
      "cell_type": "code",
      "metadata": {
        "id": "0JyMrN_hxn6N"
      },
      "source": [
        "# import libraries for building model\r\n",
        "from keras.models import Sequential\r\n",
        "from keras.layers import Dense, Embedding, Conv1D, MaxPooling1D, GlobalMaxPooling1D, Dropout\r\n",
        "from keras.callbacks import ReduceLROnPlateau, ModelCheckpoint"
      ],
      "execution_count": 52,
      "outputs": []
    },
    {
      "cell_type": "code",
      "metadata": {
        "id": "qmKATeDTqCmy"
      },
      "source": [
        "# define model\r\n",
        "def build_model():\r\n",
        "  model = Sequential()\r\n",
        "  model.add(Embedding(15000, 32))\r\n",
        "  model.add(Conv1D(32, 5, activation='relu'))\r\n",
        "  model.add(MaxPooling1D())\r\n",
        "\r\n",
        "  model.add(Conv1D(64, 5, activation='relu'))\r\n",
        "  model.add(GlobalMaxPooling1D())\r\n",
        "\r\n",
        "  model.add(Dense(32, activation='relu'))\r\n",
        "  model.add(Dropout(0.1))\r\n",
        "  model.add(Dense(6, activation='softmax'))\r\n",
        "\r\n",
        "  model.compile(loss= 'categorical_crossentropy', optimizer='rmsprop', metrics=['acc'])\r\n",
        "\r\n",
        "  return  model"
      ],
      "execution_count": 53,
      "outputs": []
    },
    {
      "cell_type": "code",
      "metadata": {
        "colab": {
          "base_uri": "https://localhost:8080/"
        },
        "id": "m03LFzO-4oZ6",
        "outputId": "f8fbabcd-ff84-4dd6-c632-7db42883d769"
      },
      "source": [
        "# build model\r\n",
        "model = build_model()\r\n",
        "model.summary()"
      ],
      "execution_count": 54,
      "outputs": [
        {
          "output_type": "stream",
          "text": [
            "Model: \"sequential_1\"\n",
            "_________________________________________________________________\n",
            "Layer (type)                 Output Shape              Param #   \n",
            "=================================================================\n",
            "embedding_1 (Embedding)      (None, None, 32)          480000    \n",
            "_________________________________________________________________\n",
            "conv1d_2 (Conv1D)            (None, None, 32)          5152      \n",
            "_________________________________________________________________\n",
            "max_pooling1d_1 (MaxPooling1 (None, None, 32)          0         \n",
            "_________________________________________________________________\n",
            "conv1d_3 (Conv1D)            (None, None, 64)          10304     \n",
            "_________________________________________________________________\n",
            "global_max_pooling1d_1 (Glob (None, 64)                0         \n",
            "_________________________________________________________________\n",
            "dense_2 (Dense)              (None, 32)                2080      \n",
            "_________________________________________________________________\n",
            "dropout_1 (Dropout)          (None, 32)                0         \n",
            "_________________________________________________________________\n",
            "dense_3 (Dense)              (None, 6)                 198       \n",
            "=================================================================\n",
            "Total params: 497,734\n",
            "Trainable params: 497,734\n",
            "Non-trainable params: 0\n",
            "_________________________________________________________________\n"
          ],
          "name": "stdout"
        }
      ]
    },
    {
      "cell_type": "code",
      "metadata": {
        "id": "1C7ZAnox41zL"
      },
      "source": [
        "# learning rate reducer\r\n",
        "learn_control = ReduceLROnPlateau(monitor='val_acc', patience=5, verbose = 1, factor= 0.2, min_lr = 1e-7)\r\n",
        "\r\n",
        "# checkpoint\r\n",
        "filepath=('a_weights.best.hdf5')\r\n",
        "checkpoint = ModelCheckpoint(filepath, monitor='val_acc', verbose=1, save_best_only=True, mode='max')"
      ],
      "execution_count": 55,
      "outputs": []
    },
    {
      "cell_type": "code",
      "metadata": {
        "colab": {
          "base_uri": "https://localhost:8080/"
        },
        "id": "E9ZhFdmd6FWn",
        "outputId": "92274cfa-5f58-4a61-bd6a-26b20087fa13"
      },
      "source": [
        "history = model.fit(x_train, train_labels, epochs= 40, validation_data=(x_val, val_labels),\r\n",
        "                    batch_size = 16, callbacks = [checkpoint])"
      ],
      "execution_count": 56,
      "outputs": [
        {
          "output_type": "stream",
          "text": [
            "Epoch 1/40\n",
            "1000/1000 [==============================] - 8s 8ms/step - loss: 1.5427 - acc: 0.3495 - val_loss: 0.7403 - val_acc: 0.7440\n",
            "\n",
            "Epoch 00001: val_acc improved from -inf to 0.74400, saving model to a_weights.best.hdf5\n",
            "Epoch 2/40\n",
            "1000/1000 [==============================] - 8s 8ms/step - loss: 0.5825 - acc: 0.7915 - val_loss: 0.3385 - val_acc: 0.8910\n",
            "\n",
            "Epoch 00002: val_acc improved from 0.74400 to 0.89100, saving model to a_weights.best.hdf5\n",
            "Epoch 3/40\n",
            "1000/1000 [==============================] - 7s 7ms/step - loss: 0.2754 - acc: 0.9089 - val_loss: 0.2602 - val_acc: 0.9125\n",
            "\n",
            "Epoch 00003: val_acc improved from 0.89100 to 0.91250, saving model to a_weights.best.hdf5\n",
            "Epoch 4/40\n",
            "1000/1000 [==============================] - 7s 7ms/step - loss: 0.2057 - acc: 0.9312 - val_loss: 0.2708 - val_acc: 0.9095\n",
            "\n",
            "Epoch 00004: val_acc did not improve from 0.91250\n",
            "Epoch 5/40\n",
            "1000/1000 [==============================] - 7s 7ms/step - loss: 0.1717 - acc: 0.9403 - val_loss: 0.2558 - val_acc: 0.9180\n",
            "\n",
            "Epoch 00005: val_acc improved from 0.91250 to 0.91800, saving model to a_weights.best.hdf5\n",
            "Epoch 6/40\n",
            "1000/1000 [==============================] - 7s 7ms/step - loss: 0.1462 - acc: 0.9502 - val_loss: 0.2799 - val_acc: 0.9160\n",
            "\n",
            "Epoch 00006: val_acc did not improve from 0.91800\n",
            "Epoch 7/40\n",
            "1000/1000 [==============================] - 7s 7ms/step - loss: 0.1225 - acc: 0.9555 - val_loss: 0.2489 - val_acc: 0.9220\n",
            "\n",
            "Epoch 00007: val_acc improved from 0.91800 to 0.92200, saving model to a_weights.best.hdf5\n",
            "Epoch 8/40\n",
            "1000/1000 [==============================] - 7s 7ms/step - loss: 0.1083 - acc: 0.9622 - val_loss: 0.2837 - val_acc: 0.9145\n",
            "\n",
            "Epoch 00008: val_acc did not improve from 0.92200\n",
            "Epoch 9/40\n",
            "1000/1000 [==============================] - 7s 7ms/step - loss: 0.0866 - acc: 0.9711 - val_loss: 0.2981 - val_acc: 0.9225\n",
            "\n",
            "Epoch 00009: val_acc improved from 0.92200 to 0.92250, saving model to a_weights.best.hdf5\n",
            "Epoch 10/40\n",
            "1000/1000 [==============================] - 7s 7ms/step - loss: 0.0722 - acc: 0.9758 - val_loss: 0.3252 - val_acc: 0.9170\n",
            "\n",
            "Epoch 00010: val_acc did not improve from 0.92250\n",
            "Epoch 11/40\n",
            "1000/1000 [==============================] - 7s 7ms/step - loss: 0.0627 - acc: 0.9807 - val_loss: 0.4013 - val_acc: 0.9185\n",
            "\n",
            "Epoch 00011: val_acc did not improve from 0.92250\n",
            "Epoch 12/40\n",
            "1000/1000 [==============================] - 7s 7ms/step - loss: 0.0561 - acc: 0.9822 - val_loss: 0.4146 - val_acc: 0.9155\n",
            "\n",
            "Epoch 00012: val_acc did not improve from 0.92250\n",
            "Epoch 13/40\n",
            "1000/1000 [==============================] - 7s 7ms/step - loss: 0.0398 - acc: 0.9863 - val_loss: 0.4044 - val_acc: 0.9190\n",
            "\n",
            "Epoch 00013: val_acc did not improve from 0.92250\n",
            "Epoch 14/40\n",
            "1000/1000 [==============================] - 7s 7ms/step - loss: 0.0337 - acc: 0.9883 - val_loss: 0.5156 - val_acc: 0.9130\n",
            "\n",
            "Epoch 00014: val_acc did not improve from 0.92250\n",
            "Epoch 15/40\n",
            "1000/1000 [==============================] - 7s 7ms/step - loss: 0.0322 - acc: 0.9899 - val_loss: 0.6488 - val_acc: 0.9080\n",
            "\n",
            "Epoch 00015: val_acc did not improve from 0.92250\n",
            "Epoch 16/40\n",
            "1000/1000 [==============================] - 7s 7ms/step - loss: 0.0268 - acc: 0.9922 - val_loss: 0.5059 - val_acc: 0.9145\n",
            "\n",
            "Epoch 00016: val_acc did not improve from 0.92250\n",
            "Epoch 17/40\n",
            "1000/1000 [==============================] - 7s 7ms/step - loss: 0.0252 - acc: 0.9931 - val_loss: 0.5148 - val_acc: 0.9165\n",
            "\n",
            "Epoch 00017: val_acc did not improve from 0.92250\n",
            "Epoch 18/40\n",
            "1000/1000 [==============================] - 7s 7ms/step - loss: 0.0222 - acc: 0.9935 - val_loss: 0.6153 - val_acc: 0.9120\n",
            "\n",
            "Epoch 00018: val_acc did not improve from 0.92250\n",
            "Epoch 19/40\n",
            "1000/1000 [==============================] - 7s 7ms/step - loss: 0.0183 - acc: 0.9945 - val_loss: 0.5943 - val_acc: 0.9080\n",
            "\n",
            "Epoch 00019: val_acc did not improve from 0.92250\n",
            "Epoch 20/40\n",
            "1000/1000 [==============================] - 7s 7ms/step - loss: 0.0203 - acc: 0.9945 - val_loss: 0.7239 - val_acc: 0.9095\n",
            "\n",
            "Epoch 00020: val_acc did not improve from 0.92250\n",
            "Epoch 21/40\n",
            "1000/1000 [==============================] - 7s 7ms/step - loss: 0.0169 - acc: 0.9953 - val_loss: 0.8180 - val_acc: 0.9060\n",
            "\n",
            "Epoch 00021: val_acc did not improve from 0.92250\n",
            "Epoch 22/40\n",
            "1000/1000 [==============================] - 7s 7ms/step - loss: 0.0190 - acc: 0.9954 - val_loss: 0.6587 - val_acc: 0.9145\n",
            "\n",
            "Epoch 00022: val_acc did not improve from 0.92250\n",
            "Epoch 23/40\n",
            "1000/1000 [==============================] - 7s 7ms/step - loss: 0.0163 - acc: 0.9955 - val_loss: 0.6071 - val_acc: 0.9135\n",
            "\n",
            "Epoch 00023: val_acc did not improve from 0.92250\n",
            "Epoch 24/40\n",
            "1000/1000 [==============================] - 7s 7ms/step - loss: 0.0156 - acc: 0.9953 - val_loss: 0.9062 - val_acc: 0.9010\n",
            "\n",
            "Epoch 00024: val_acc did not improve from 0.92250\n",
            "Epoch 25/40\n",
            "1000/1000 [==============================] - 8s 8ms/step - loss: 0.0180 - acc: 0.9946 - val_loss: 0.7462 - val_acc: 0.9085\n",
            "\n",
            "Epoch 00025: val_acc did not improve from 0.92250\n",
            "Epoch 26/40\n",
            "1000/1000 [==============================] - 7s 7ms/step - loss: 0.0169 - acc: 0.9952 - val_loss: 0.9271 - val_acc: 0.9145\n",
            "\n",
            "Epoch 00026: val_acc did not improve from 0.92250\n",
            "Epoch 27/40\n",
            "1000/1000 [==============================] - 8s 8ms/step - loss: 0.0206 - acc: 0.9946 - val_loss: 0.8688 - val_acc: 0.9125\n",
            "\n",
            "Epoch 00027: val_acc did not improve from 0.92250\n",
            "Epoch 28/40\n",
            "1000/1000 [==============================] - 7s 7ms/step - loss: 0.0154 - acc: 0.9959 - val_loss: 0.8688 - val_acc: 0.9065\n",
            "\n",
            "Epoch 00028: val_acc did not improve from 0.92250\n",
            "Epoch 29/40\n",
            "1000/1000 [==============================] - 8s 8ms/step - loss: 0.0137 - acc: 0.9965 - val_loss: 0.7628 - val_acc: 0.9110\n",
            "\n",
            "Epoch 00029: val_acc did not improve from 0.92250\n",
            "Epoch 30/40\n",
            "1000/1000 [==============================] - 8s 8ms/step - loss: 0.0160 - acc: 0.9963 - val_loss: 0.9246 - val_acc: 0.9120\n",
            "\n",
            "Epoch 00030: val_acc did not improve from 0.92250\n",
            "Epoch 31/40\n",
            "1000/1000 [==============================] - 8s 8ms/step - loss: 0.0169 - acc: 0.9963 - val_loss: 0.9585 - val_acc: 0.9130\n",
            "\n",
            "Epoch 00031: val_acc did not improve from 0.92250\n",
            "Epoch 32/40\n",
            "1000/1000 [==============================] - 7s 7ms/step - loss: 0.0136 - acc: 0.9966 - val_loss: 0.8799 - val_acc: 0.9115\n",
            "\n",
            "Epoch 00032: val_acc did not improve from 0.92250\n",
            "Epoch 33/40\n",
            "1000/1000 [==============================] - 7s 7ms/step - loss: 0.0159 - acc: 0.9970 - val_loss: 1.0018 - val_acc: 0.9100\n",
            "\n",
            "Epoch 00033: val_acc did not improve from 0.92250\n",
            "Epoch 34/40\n",
            "1000/1000 [==============================] - 7s 7ms/step - loss: 0.0170 - acc: 0.9965 - val_loss: 0.9445 - val_acc: 0.9125\n",
            "\n",
            "Epoch 00034: val_acc did not improve from 0.92250\n",
            "Epoch 35/40\n",
            "1000/1000 [==============================] - 7s 7ms/step - loss: 0.0127 - acc: 0.9964 - val_loss: 1.0601 - val_acc: 0.9095\n",
            "\n",
            "Epoch 00035: val_acc did not improve from 0.92250\n",
            "Epoch 36/40\n",
            "1000/1000 [==============================] - 7s 7ms/step - loss: 0.0127 - acc: 0.9966 - val_loss: 1.2080 - val_acc: 0.9125\n",
            "\n",
            "Epoch 00036: val_acc did not improve from 0.92250\n",
            "Epoch 37/40\n",
            "1000/1000 [==============================] - 7s 7ms/step - loss: 0.0148 - acc: 0.9965 - val_loss: 1.0302 - val_acc: 0.9135\n",
            "\n",
            "Epoch 00037: val_acc did not improve from 0.92250\n",
            "Epoch 38/40\n",
            "1000/1000 [==============================] - 7s 7ms/step - loss: 0.0173 - acc: 0.9951 - val_loss: 0.9335 - val_acc: 0.9135\n",
            "\n",
            "Epoch 00038: val_acc did not improve from 0.92250\n",
            "Epoch 39/40\n",
            "1000/1000 [==============================] - 7s 7ms/step - loss: 0.0145 - acc: 0.9966 - val_loss: 1.1325 - val_acc: 0.9105\n",
            "\n",
            "Epoch 00039: val_acc did not improve from 0.92250\n",
            "Epoch 40/40\n",
            "1000/1000 [==============================] - 7s 7ms/step - loss: 0.0125 - acc: 0.9964 - val_loss: 1.2110 - val_acc: 0.9130\n",
            "\n",
            "Epoch 00040: val_acc did not improve from 0.92250\n"
          ],
          "name": "stdout"
        }
      ]
    },
    {
      "cell_type": "code",
      "metadata": {
        "colab": {
          "base_uri": "https://localhost:8080/",
          "height": 283
        },
        "id": "bHAv8u-F7Nh-",
        "outputId": "8d37ce4f-960d-4fab-ee94-46e9473feefd"
      },
      "source": [
        "# visualize model performance\r\n",
        "history_df =pd.DataFrame(history.history)\r\n",
        "history_df[['loss', 'val_loss']].plot()"
      ],
      "execution_count": 57,
      "outputs": [
        {
          "output_type": "execute_result",
          "data": {
            "text/plain": [
              "<matplotlib.axes._subplots.AxesSubplot at 0x7f64e0018f90>"
            ]
          },
          "metadata": {
            "tags": []
          },
          "execution_count": 57
        },
        {
          "output_type": "display_data",
          "data": {
            "image/png": "[encoded data removed]",
            "text/plain": [
              "<Figure size 432x288 with 1 Axes>"
            ]
          },
          "metadata": {
            "tags": [],
            "needs_background": "light"
          }
        }
      ]
    },
    {
      "cell_type": "code",
      "metadata": {
        "id": "PUVq-O9mGgDT"
      },
      "source": [
        "#load best weights\r\n",
        "model.load_weights('a_weights.best.hdf5')"
      ],
      "execution_count": 58,
      "outputs": []
    },
    {
      "cell_type": "code",
      "metadata": {
        "id": "v3dQ5XNdHE_Z"
      },
      "source": [
        "from sklearn.metrics import accuracy_score"
      ],
      "execution_count": 59,
      "outputs": []
    },
    {
      "cell_type": "code",
      "metadata": {
        "colab": {
          "base_uri": "https://localhost:8080/"
        },
        "id": "X0wnr_c8HmI7",
        "outputId": "44016dec-6f81-4f69-a998-7acfdd8e698d"
      },
      "source": [
        "# evaluate model on validation date\r\n",
        "model.evaluate(x_val, val_labels)"
      ],
      "execution_count": 60,
      "outputs": [
        {
          "output_type": "stream",
          "text": [
            "63/63 [==============================] - 0s 4ms/step - loss: 0.2981 - acc: 0.9225\n"
          ],
          "name": "stdout"
        },
        {
          "output_type": "execute_result",
          "data": {
            "text/plain": [
              "[0.29810988903045654, 0.9225000143051147]"
            ]
          },
          "metadata": {
            "tags": []
          },
          "execution_count": 60
        }
      ]
    },
    {
      "cell_type": "code",
      "metadata": {
        "colab": {
          "base_uri": "https://localhost:8080/"
        },
        "id": "dvc4c-BVIz65",
        "outputId": "3476d402-cc0b-410c-fea3-1ff1ccbb2f74"
      },
      "source": [
        "# evaluate model on validation data\r\n",
        "model.evaluate(x_val, val_labels)"
      ],
      "execution_count": 61,
      "outputs": [
        {
          "output_type": "stream",
          "text": [
            "63/63 [==============================] - 0s 4ms/step - loss: 0.2981 - acc: 0.9225\n"
          ],
          "name": "stdout"
        },
        {
          "output_type": "execute_result",
          "data": {
            "text/plain": [
              "[0.29810988903045654, 0.9225000143051147]"
            ]
          },
          "metadata": {
            "tags": []
          },
          "execution_count": 61
        }
      ]
    },
    {
      "cell_type": "code",
      "metadata": {
        "colab": {
          "base_uri": "https://localhost:8080/"
        },
        "id": "8mKw12irIvSP",
        "outputId": "3cd9e296-97de-46b7-c848-ebe0ece9818d"
      },
      "source": [
        "# evaluate model on test data\r\n",
        "model.evaluate(x_test, test_labels)"
      ],
      "execution_count": 62,
      "outputs": [
        {
          "output_type": "stream",
          "text": [
            "500/500 [==============================] - 2s 4ms/step - loss: 0.0646 - acc: 0.9772\n"
          ],
          "name": "stdout"
        },
        {
          "output_type": "execute_result",
          "data": {
            "text/plain": [
              "[0.06456976383924484, 0.9772499799728394]"
            ]
          },
          "metadata": {
            "tags": []
          },
          "execution_count": 62
        }
      ]
    },
    {
      "cell_type": "code",
      "metadata": {
        "colab": {
          "base_uri": "https://localhost:8080/"
        },
        "id": "jrwZIghNN9hc",
        "outputId": "ed7cc944-3981-4904-d460-420665c53a17"
      },
      "source": [
        "# get test data predictions\r\n",
        "y_pred = model.predict_classes(x_test)\r\n",
        "y_pred[:5]"
      ],
      "execution_count": 63,
      "outputs": [
        {
          "output_type": "execute_result",
          "data": {
            "text/plain": [
              "array([4, 4, 0, 3, 0])"
            ]
          },
          "metadata": {
            "tags": []
          },
          "execution_count": 63
        }
      ]
    },
    {
      "cell_type": "code",
      "metadata": {
        "id": "kCEIT1lSJnt8"
      },
      "source": [
        "from sklearn.metrics import confusion_matrix\r\n",
        "import seaborn as sns"
      ],
      "execution_count": 64,
      "outputs": []
    },
    {
      "cell_type": "code",
      "metadata": {
        "colab": {
          "base_uri": "https://localhost:8080/",
          "height": 404
        },
        "id": "D44T9wThM3va",
        "outputId": "079b8c4a-65f3-4918-82f8-44014961039b"
      },
      "source": [
        "# visualize confusion matrix\r\n",
        "plt.figure(figsize=(15,6))\r\n",
        "cm = confusion_matrix(np.argmax(test_labels, axis=1), y_pred)\r\n",
        "sns.heatmap(cm, annot=True, fmt='d')\r\n",
        "plt.xlabel('Predicted')\r\n",
        "plt.ylabel('Truth')\r\n",
        "plt.title ('Confusion Matrix')\r\n",
        "\r\n",
        "labels = classes\r\n",
        "tick_marks = np.arange(len(labels))\r\n",
        "plt.xticks(tick_marks, labels, rotation=0)\r\n",
        "plt.yticks(tick_marks, labels)\r\n",
        "\r\n",
        "plt.show()"
      ],
      "execution_count": 65,
      "outputs": [
        {
          "output_type": "display_data",
          "data": {
            "image/png": "[encoded data removed]",
            "text/plain": [
              "<Figure size 1080x432 with 2 Axes>"
            ]
          },
          "metadata": {
            "tags": [],
            "needs_background": "light"
          }
        }
      ]
    },
    {
      "cell_type": "code",
      "metadata": {
        "id": "oCbEuTFsXrDl"
      },
      "source": [
        "# import classification report\r\n",
        "from sklearn.metrics import classification_report"
      ],
      "execution_count": 66,
      "outputs": []
    },
    {
      "cell_type": "code",
      "metadata": {
        "colab": {
          "base_uri": "https://localhost:8080/"
        },
        "id": "XFPrrVudX795",
        "outputId": "8c6b5d9d-962a-45fe-c17b-6f967adc67e3"
      },
      "source": [
        "# display classification report\r\n",
        "print(classification_report(np.argmax(test_labels, axis=1), y_pred))"
      ],
      "execution_count": 67,
      "outputs": [
        {
          "output_type": "stream",
          "text": [
            "              precision    recall  f1-score   support\n",
            "\n",
            "           0       0.93      1.00      0.96      2159\n",
            "           1       0.96      0.94      0.95      1937\n",
            "           2       1.00      0.98      0.99      5362\n",
            "           3       0.95      0.99      0.97      1304\n",
            "           4       0.99      0.99      0.99      4666\n",
            "           5       0.97      0.88      0.92       572\n",
            "\n",
            "    accuracy                           0.98     16000\n",
            "   macro avg       0.97      0.96      0.96     16000\n",
            "weighted avg       0.98      0.98      0.98     16000\n",
            "\n"
          ],
          "name": "stdout"
        }
      ]
    },
    {
      "cell_type": "code",
      "metadata": {
        "id": "qn2_gjmMb9NE"
      },
      "source": [
        "# make predictions and class\r\n",
        "def make_predictions(sentence):\r\n",
        "  sentence_list = []\r\n",
        "  sentence_list.append(sentence)\r\n",
        "  data = tokenize(sentence_list)\r\n",
        "  prediction = int(model.predict_classes(data))\r\n",
        "  emotion = classes[prediction]\r\n",
        "  print('Predicted emotion is : {}'.format(emotion))"
      ],
      "execution_count": 68,
      "outputs": []
    },
    {
      "cell_type": "code",
      "metadata": {
        "colab": {
          "base_uri": "https://localhost:8080/"
        },
        "id": "DXBQqzDtedgR",
        "outputId": "dfd77f19-73d6-4093-f682-48d948ba14c9"
      },
      "source": [
        "# prompt users and make predictions\r\n",
        "make_predictions(str(input('Enter a sentence here: ')))"
      ],
      "execution_count": 69,
      "outputs": [
        {
          "output_type": "stream",
          "text": [
            "Enter a sentence here: I dont deserve to have all these problems\n",
            "Predicted emotion is : anger\n"
          ],
          "name": "stdout"
        }
      ]
    },
    {
      "cell_type": "code",
      "metadata": {
        "colab": {
          "base_uri": "https://localhost:8080/"
        },
        "id": "VeVYABOp6hRB",
        "outputId": "ee864052-a0d6-476c-8857-c55f53e896e1"
      },
      "source": [
        "# prompt users and make predictions\r\n",
        "make_predictions(str(input('Enter a sentence here: ')))"
      ],
      "execution_count": 78,
      "outputs": [
        {
          "output_type": "stream",
          "text": [
            "Enter a sentence here: i am not sure i would pass this test\n",
            "Predicted emotion is : joy\n"
          ],
          "name": "stdout"
        }
      ]
    }
  ]
}