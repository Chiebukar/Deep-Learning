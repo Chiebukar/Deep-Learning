{
  "nbformat": 4,
  "nbformat_minor": 0,
  "metadata": {
    "colab": {
      "name": "news_wire_classification.ipynb",
      "provenance": [],
      "collapsed_sections": [],
      "authorship_tag": "ABX9TyPY0IBO2uUZxejkuu/WBQxp",
      "include_colab_link": true
    },
    "kernelspec": {
      "name": "python3",
      "display_name": "Python 3"
    }
  },
  "cells": [
    {
      "cell_type": "markdown",
      "metadata": {
        "id": "view-in-github",
        "colab_type": "text"
      },
      "source": [
        "<a href=\"https://colab.research.google.com/github/Chiebukar/Deep-Learning/blob/main/news_wire_classification.ipynb\" target=\"_parent\"><img src=\"https://colab.research.google.com/assets/colab-badge.svg\" alt=\"Open In Colab\"/></a>"
      ]
    },
    {
      "cell_type": "markdown",
      "metadata": {
        "id": "FAFEs78MM4Ym"
      },
      "source": [
        "## **Multiclass classification of news into topics using Reuters news dataset**"
      ]
    },
    {
      "cell_type": "markdown",
      "metadata": {
        "id": "MuriwNFQk0Zo"
      },
      "source": [
        "Import needed libraries"
      ]
    },
    {
      "cell_type": "code",
      "metadata": {
        "id": "jGp4VdpbHawD"
      },
      "source": [
        "import numpy as np\r\n",
        "import tensorflow as tf\r\n",
        "from tensorflow import keras"
      ],
      "execution_count": 3,
      "outputs": []
    },
    {
      "cell_type": "markdown",
      "metadata": {
        "id": "sOyHVRzuk837"
      },
      "source": [
        "Import dataset"
      ]
    },
    {
      "cell_type": "code",
      "metadata": {
        "id": "tWnqrcl_IJpt"
      },
      "source": [
        "from keras.datasets import reuters"
      ],
      "execution_count": 4,
      "outputs": []
    },
    {
      "cell_type": "code",
      "metadata": {
        "colab": {
          "base_uri": "https://localhost:8080/"
        },
        "id": "jlVuIK1FIX-g",
        "outputId": "e07da0da-822c-41f0-8ff9-57b7ca17e7b9"
      },
      "source": [
        "(train_data, train_label), (test_data, test_label) = reuters.load_data(num_words= 10000)"
      ],
      "execution_count": 5,
      "outputs": [
        {
          "output_type": "stream",
          "text": [
            "Downloading data from https://storage.googleapis.com/tensorflow/tf-keras-datasets/reuters.npz\n",
            "2113536/2110848 [==============================] - 0s 0us/step\n"
          ],
          "name": "stdout"
        },
        {
          "output_type": "stream",
          "text": [
            "/usr/local/lib/python3.6/dist-packages/tensorflow/python/keras/datasets/reuters.py:148: VisibleDeprecationWarning: Creating an ndarray from ragged nested sequences (which is a list-or-tuple of lists-or-tuples-or ndarrays with different lengths or shapes) is deprecated. If you meant to do this, you must specify 'dtype=object' when creating the ndarray\n",
            "  x_train, y_train = np.array(xs[:idx]), np.array(labels[:idx])\n",
            "/usr/local/lib/python3.6/dist-packages/tensorflow/python/keras/datasets/reuters.py:149: VisibleDeprecationWarning: Creating an ndarray from ragged nested sequences (which is a list-or-tuple of lists-or-tuples-or ndarrays with different lengths or shapes) is deprecated. If you meant to do this, you must specify 'dtype=object' when creating the ndarray\n",
            "  x_test, y_test = np.array(xs[idx:]), np.array(labels[idx:])\n"
          ],
          "name": "stderr"
        }
      ]
    },
    {
      "cell_type": "markdown",
      "metadata": {
        "id": "nz-K3HUJlGRb"
      },
      "source": [
        "Explore dataset"
      ]
    },
    {
      "cell_type": "code",
      "metadata": {
        "colab": {
          "base_uri": "https://localhost:8080/"
        },
        "id": "qfa826ghJTTu",
        "outputId": "7a25ca89-c132-40e5-b3c4-a238cbdf59ea"
      },
      "source": [
        "train_data.shape, train_label.shape, test_data.shape, test_label.shape "
      ],
      "execution_count": 8,
      "outputs": [
        {
          "output_type": "execute_result",
          "data": {
            "text/plain": [
              "((8982,), (8982,), (2246,), (2246,))"
            ]
          },
          "metadata": {
            "tags": []
          },
          "execution_count": 8
        }
      ]
    },
    {
      "cell_type": "code",
      "metadata": {
        "colab": {
          "base_uri": "https://localhost:8080/"
        },
        "id": "3PL_YdFWPqNc",
        "outputId": "ca3976cf-8c90-4ebd-c186-f284f4dd1a5a"
      },
      "source": [
        "type(train_data), type(train_label)"
      ],
      "execution_count": 9,
      "outputs": [
        {
          "output_type": "execute_result",
          "data": {
            "text/plain": [
              "(numpy.ndarray, numpy.ndarray)"
            ]
          },
          "metadata": {
            "tags": []
          },
          "execution_count": 9
        }
      ]
    },
    {
      "cell_type": "code",
      "metadata": {
        "colab": {
          "base_uri": "https://localhost:8080/"
        },
        "id": "A1tuh0-bOsAa",
        "outputId": "fda3ec66-669a-43c8-e1d3-8ac50c8f4122"
      },
      "source": [
        "type(train_data[0]), type(train_label[0])"
      ],
      "execution_count": 7,
      "outputs": [
        {
          "output_type": "execute_result",
          "data": {
            "text/plain": [
              "(list, numpy.int64)"
            ]
          },
          "metadata": {
            "tags": []
          },
          "execution_count": 7
        }
      ]
    },
    {
      "cell_type": "code",
      "metadata": {
        "colab": {
          "base_uri": "https://localhost:8080/"
        },
        "id": "v1oB4RdHJokC",
        "outputId": "2bbb645b-5727-4ca6-ac92-be179090b328"
      },
      "source": [
        "len(train_data[0]), len(train_data[1])"
      ],
      "execution_count": 10,
      "outputs": [
        {
          "output_type": "execute_result",
          "data": {
            "text/plain": [
              "(87, 56)"
            ]
          },
          "metadata": {
            "tags": []
          },
          "execution_count": 10
        }
      ]
    },
    {
      "cell_type": "code",
      "metadata": {
        "colab": {
          "base_uri": "https://localhost:8080/"
        },
        "id": "iwCZjFcGKuof",
        "outputId": "24636948-4f3e-4475-8a3a-91fead662e7b"
      },
      "source": [
        "len_list  = [len(i) for i in train_data]\r\n",
        "max(len_list)"
      ],
      "execution_count": 11,
      "outputs": [
        {
          "output_type": "execute_result",
          "data": {
            "text/plain": [
              "2376"
            ]
          },
          "metadata": {
            "tags": []
          },
          "execution_count": 11
        }
      ]
    },
    {
      "cell_type": "code",
      "metadata": {
        "colab": {
          "base_uri": "https://localhost:8080/"
        },
        "id": "VRJJp1yFLFAJ",
        "outputId": "bfe08f92-37bd-4659-a1e4-dec719617977"
      },
      "source": [
        "len_list = [len(i) for i in test_data]\r\n",
        "max(len_list)"
      ],
      "execution_count": 12,
      "outputs": [
        {
          "output_type": "execute_result",
          "data": {
            "text/plain": [
              "1032"
            ]
          },
          "metadata": {
            "tags": []
          },
          "execution_count": 12
        }
      ]
    },
    {
      "cell_type": "code",
      "metadata": {
        "colab": {
          "base_uri": "https://localhost:8080/"
        },
        "id": "LZt3buDZSRvu",
        "outputId": "3ab55d22-a6f7-4677-dd45-29cb1dbc689b"
      },
      "source": [
        "len(np.unique(train_label)), len(np.unique(test_label))"
      ],
      "execution_count": 17,
      "outputs": [
        {
          "output_type": "execute_result",
          "data": {
            "text/plain": [
              "(46, 46)"
            ]
          },
          "metadata": {
            "tags": []
          },
          "execution_count": 17
        }
      ]
    },
    {
      "cell_type": "markdown",
      "metadata": {
        "id": "ydl_vXKhlLC0"
      },
      "source": [
        "Preprocess data"
      ]
    },
    {
      "cell_type": "code",
      "metadata": {
        "id": "JWHi6Zp4KGJQ"
      },
      "source": [
        "from keras.preprocessing.sequence import pad_sequences"
      ],
      "execution_count": 14,
      "outputs": []
    },
    {
      "cell_type": "code",
      "metadata": {
        "id": "8OX3D9cFKRG5"
      },
      "source": [
        "train_data = pad_sequences(train_data,\r\n",
        "                          padding = 'post',\r\n",
        "                          maxlen = 2376 ,\r\n",
        "                          value = 0)\r\n",
        "\r\n",
        "test_data = pad_sequences(test_data,\r\n",
        "                          padding = 'post',\r\n",
        "                          maxlen = 2376,\r\n",
        "                          value = 0)"
      ],
      "execution_count": 15,
      "outputs": []
    },
    {
      "cell_type": "markdown",
      "metadata": {
        "id": "irV6f5jML3Dh"
      },
      "source": [
        "Build Model"
      ]
    },
    {
      "cell_type": "code",
      "metadata": {
        "id": "mHIqVm-yQMff"
      },
      "source": [
        "from keras.models import Sequential\r\n",
        "from keras.layers import Dense, Embedding,GlobalAveragePooling1D"
      ],
      "execution_count": 18,
      "outputs": []
    },
    {
      "cell_type": "code",
      "metadata": {
        "id": "hX0lvk9yQit2"
      },
      "source": [
        "model = Sequential()\r\n",
        "model.add(Embedding(10000, 64))\r\n",
        "model.add(GlobalAveragePooling1D())\r\n",
        "model.add(Dense(64, activation = 'relu'))\r\n",
        "model.add(Dense(64, activation = 'relu'))\r\n",
        "model.add(Dense(46, activation = 'softmax'))"
      ],
      "execution_count": 20,
      "outputs": []
    },
    {
      "cell_type": "code",
      "metadata": {
        "colab": {
          "base_uri": "https://localhost:8080/"
        },
        "id": "GsTsThqgXuE-",
        "outputId": "9291b6c3-5cc4-47d7-b939-4ecd1c6f5215"
      },
      "source": [
        "model.summary()"
      ],
      "execution_count": 21,
      "outputs": [
        {
          "output_type": "stream",
          "text": [
            "Model: \"sequential_1\"\n",
            "_________________________________________________________________\n",
            "Layer (type)                 Output Shape              Param #   \n",
            "=================================================================\n",
            "embedding_1 (Embedding)      (None, None, 64)          640000    \n",
            "_________________________________________________________________\n",
            "global_average_pooling1d_1 ( (None, 64)                0         \n",
            "_________________________________________________________________\n",
            "dense_2 (Dense)              (None, 64)                4160      \n",
            "_________________________________________________________________\n",
            "dense_3 (Dense)              (None, 64)                4160      \n",
            "_________________________________________________________________\n",
            "dense_4 (Dense)              (None, 46)                2990      \n",
            "=================================================================\n",
            "Total params: 651,310\n",
            "Trainable params: 651,310\n",
            "Non-trainable params: 0\n",
            "_________________________________________________________________\n"
          ],
          "name": "stdout"
        }
      ]
    },
    {
      "cell_type": "markdown",
      "metadata": {
        "id": "oEEc0bj0lVMw"
      },
      "source": [
        "\r\n",
        "Compile model"
      ]
    },
    {
      "cell_type": "code",
      "metadata": {
        "id": "oCk85_QkTrYx"
      },
      "source": [
        "model.compile(loss = 'sparse_categorical_crossentropy',\r\n",
        "        b\r\n",
        "              optimizer ='rmsprop',\r\n",
        "              metrics = ['accuracy'])"
      ],
      "execution_count": 22,
      "outputs": []
    },
    {
      "cell_type": "markdown",
      "metadata": {
        "id": "0YQ4A14Dld6P"
      },
      "source": [
        "Create Validation data"
      ]
    },
    {
      "cell_type": "code",
      "metadata": {
        "id": "nTgMeMJtUPvu"
      },
      "source": [
        "x_val = train_data[:3000]\r\n",
        "y_val = train_label[:3000]\r\n",
        "x_train = train_data[3000:]\r\n",
        "y_train = train_label[3000:]"
      ],
      "execution_count": 23,
      "outputs": []
    },
    {
      "cell_type": "markdown",
      "metadata": {
        "id": "XQguBBLTljGQ"
      },
      "source": [
        "Fit data"
      ]
    },
    {
      "cell_type": "code",
      "metadata": {
        "colab": {
          "base_uri": "https://localhost:8080/"
        },
        "id": "5AIgqNXqVaIh",
        "outputId": "492c1a21-1086-4a32-e75d-8eb76c4f9198"
      },
      "source": [
        "history = model.fit(x_train, y_train, validation_data = (x_val, y_val), epochs = 10, batch_size = 512)"
      ],
      "execution_count": 35,
      "outputs": [
        {
          "output_type": "stream",
          "text": [
            "Epoch 1/10\n",
            "12/12 [==============================] - 3s 272ms/step - loss: 0.2287 - accuracy: 0.9393 - val_loss: 2.5430 - val_accuracy: 0.7033\n",
            "Epoch 2/10\n",
            "12/12 [==============================] - 3s 266ms/step - loss: 0.2250 - accuracy: 0.9398 - val_loss: 2.5402 - val_accuracy: 0.7000\n",
            "Epoch 3/10\n",
            "12/12 [==============================] - 3s 266ms/step - loss: 0.2207 - accuracy: 0.9462 - val_loss: 2.7270 - val_accuracy: 0.6340\n",
            "Epoch 4/10\n",
            "12/12 [==============================] - 3s 266ms/step - loss: 0.2293 - accuracy: 0.9376 - val_loss: 2.5571 - val_accuracy: 0.6977\n",
            "Epoch 5/10\n",
            "12/12 [==============================] - 3s 266ms/step - loss: 0.2397 - accuracy: 0.9383 - val_loss: 2.7461 - val_accuracy: 0.7073\n",
            "Epoch 6/10\n",
            "12/12 [==============================] - 3s 268ms/step - loss: 0.2184 - accuracy: 0.9428 - val_loss: 2.7409 - val_accuracy: 0.7067\n",
            "Epoch 7/10\n",
            "12/12 [==============================] - 3s 269ms/step - loss: 0.2194 - accuracy: 0.9417 - val_loss: 2.5655 - val_accuracy: 0.6953\n",
            "Epoch 8/10\n",
            "12/12 [==============================] - 3s 269ms/step - loss: 0.2522 - accuracy: 0.9278 - val_loss: 2.6538 - val_accuracy: 0.7057\n",
            "Epoch 9/10\n",
            "12/12 [==============================] - 3s 266ms/step - loss: 0.1892 - accuracy: 0.9509 - val_loss: 2.7059 - val_accuracy: 0.6763\n",
            "Epoch 10/10\n",
            "12/12 [==============================] - 3s 268ms/step - loss: 0.2309 - accuracy: 0.9388 - val_loss: 2.8000 - val_accuracy: 0.6760\n"
          ],
          "name": "stdout"
        }
      ]
    },
    {
      "cell_type": "markdown",
      "metadata": {
        "id": "q3mrFZ_Wlm5o"
      },
      "source": [
        "Visualize model performance"
      ]
    },
    {
      "cell_type": "code",
      "metadata": {
        "id": "S9H9bftwWHlV"
      },
      "source": [
        "loss = history.history['loss']\r\n",
        "val_loss = history.history['val_loss']\r\n",
        "accuracy = history.history['accuracy']\r\n",
        "val_accuracy = history.history['val_accuracy']\r\n",
        "epochs = range(1, len(loss) + 1)"
      ],
      "execution_count": 36,
      "outputs": []
    },
    {
      "cell_type": "code",
      "metadata": {
        "id": "niuusYM3e7d-"
      },
      "source": [
        "import matplotlib.pyplot as plt\r\n",
        "%matplotlib inline"
      ],
      "execution_count": 37,
      "outputs": []
    },
    {
      "cell_type": "code",
      "metadata": {
        "colab": {
          "base_uri": "https://localhost:8080/",
          "height": 400
        },
        "id": "VPZUc3jgfL6u",
        "outputId": "761d9174-efa3-4518-9723-60cccf8cd344"
      },
      "source": [
        "plt.figure(dpi = 100)\r\n",
        "plt.plot(epochs, loss, 'bo' , label = 'Training Loss')\r\n",
        "plt.plot(epochs, val_loss, 'b', label = 'vaidation loss')\r\n",
        "plt.xlabel('Epoch')\r\n",
        "plt.ylabel('Loss')\r\n",
        "plt.legend()"
      ],
      "execution_count": 38,
      "outputs": [
        {
          "output_type": "execute_result",
          "data": {
            "text/plain": [
              "<matplotlib.legend.Legend at 0x7f3d917a2a20>"
            ]
          },
          "metadata": {
            "tags": []
          },
          "execution_count": 38
        },
        {
          "output_type": "display_data",
          "data": {
            "image/png": "[encoded data removed]",
            "text/plain": [
              "<Figure size 600x400 with 1 Axes>"
            ]
          },
          "metadata": {
            "tags": [],
            "needs_background": "light"
          }
        }
      ]
    },
    {
      "cell_type": "markdown",
      "metadata": {
        "id": "HXi0Dli8l9mh"
      },
      "source": [
        "Re-fit the model on the  train data "
      ]
    },
    {
      "cell_type": "code",
      "metadata": {
        "colab": {
          "base_uri": "https://localhost:8080/"
        },
        "id": "dVOFRVBUmPDR",
        "outputId": "afafc8a6-e22c-437d-806a-b198d9fc4d66"
      },
      "source": [
        "model.fit(train_data, train_label, epochs = 10, batch_size= 128)"
      ],
      "execution_count": 48,
      "outputs": [
        {
          "output_type": "stream",
          "text": [
            "Epoch 1/10\n",
            "71/71 [==============================] - 5s 68ms/step - loss: 0.6173 - accuracy: 0.8686\n",
            "Epoch 2/10\n",
            "71/71 [==============================] - 5s 69ms/step - loss: 0.6046 - accuracy: 0.8712\n",
            "Epoch 3/10\n",
            "71/71 [==============================] - 5s 69ms/step - loss: 0.6032 - accuracy: 0.8710\n",
            "Epoch 4/10\n",
            "71/71 [==============================] - 5s 69ms/step - loss: 0.5865 - accuracy: 0.8692\n",
            "Epoch 5/10\n",
            "71/71 [==============================] - 5s 69ms/step - loss: 0.5764 - accuracy: 0.8719\n",
            "Epoch 6/10\n",
            "71/71 [==============================] - 5s 68ms/step - loss: 0.5667 - accuracy: 0.8759\n",
            "Epoch 7/10\n",
            "71/71 [==============================] - 5s 68ms/step - loss: 0.5562 - accuracy: 0.8763\n",
            "Epoch 8/10\n",
            "71/71 [==============================] - 5s 69ms/step - loss: 0.5519 - accuracy: 0.8771\n",
            "Epoch 9/10\n",
            "71/71 [==============================] - 5s 68ms/step - loss: 0.5394 - accuracy: 0.8805\n",
            "Epoch 10/10\n",
            "71/71 [==============================] - 5s 68ms/step - loss: 0.5366 - accuracy: 0.8779\n"
          ],
          "name": "stdout"
        },
        {
          "output_type": "execute_result",
          "data": {
            "text/plain": [
              "<tensorflow.python.keras.callbacks.History at 0x7f3d9190b630>"
            ]
          },
          "metadata": {
            "tags": []
          },
          "execution_count": 48
        }
      ]
    },
    {
      "cell_type": "markdown",
      "metadata": {
        "id": "gvLCqpwameGb"
      },
      "source": [
        "Evaluate model on test data"
      ]
    },
    {
      "cell_type": "code",
      "metadata": {
        "colab": {
          "base_uri": "https://localhost:8080/"
        },
        "id": "t0PJc2rGmvjM",
        "outputId": "a9cf3dc4-bed5-4805-f5f3-f8ac47decb2b"
      },
      "source": [
        "results = model.evaluate(test_data, test_label)"
      ],
      "execution_count": 49,
      "outputs": [
        {
          "output_type": "stream",
          "text": [
            "71/71 [==============================] - 1s 10ms/step - loss: 1.6769 - accuracy: 0.7079\n"
          ],
          "name": "stdout"
        }
      ]
    }
  ]
}
