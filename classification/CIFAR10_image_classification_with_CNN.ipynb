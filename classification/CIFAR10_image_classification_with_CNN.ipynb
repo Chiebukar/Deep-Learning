{
  "nbformat": 4,
  "nbformat_minor": 0,
  "metadata": {
    "colab": {
      "name": "CIFAR10_image_classification_with_CNN.ipynb",
      "provenance": [],
      "collapsed_sections": [],
      "authorship_tag": "ABX9TyMntR5bxgv1u2TY09ZoN/d6",
      "include_colab_link": true
    },
    "kernelspec": {
      "name": "python3",
      "display_name": "Python 3"
    }
  },
  "cells": [
    {
      "cell_type": "markdown",
      "metadata": {
        "id": "view-in-github",
        "colab_type": "text"
      },
      "source": [
        "<a href=\"https://colab.research.google.com/github/Chiebukar/Deep-Learning/blob/main/CIFAR10_image_classification_with_CNN.ipynb\" target=\"_parent\"><img src=\"https://colab.research.google.com/assets/colab-badge.svg\" alt=\"Open In Colab\"/></a>"
      ]
    },
    {
      "cell_type": "markdown",
      "metadata": {
        "id": "iBT29wE4wjEn"
      },
      "source": [
        "# **Classification of small images using CNN**"
      ]
    },
    {
      "cell_type": "markdown",
      "metadata": {
        "id": "1VwNj2JUw8dE"
      },
      "source": [
        "# Import requird libraries"
      ]
    },
    {
      "cell_type": "code",
      "metadata": {
        "id": "gf8ALOqDTp4P"
      },
      "source": [
        "import numpy as np\r\n",
        "import matplotlib.pyplot as plt\r\n",
        "import seaborn as sns\r\n",
        "from tensorflow import keras\r\n",
        "from keras.models import Sequential\r\n",
        "from keras.layers import Dense, Conv2D, MaxPool2D, Flatten, Dropout\r\n",
        "from sklearn.model_selection import train_test_split\r\n",
        "from tensorflow.math import confusion_matrix\r\n",
        "from keras.utils import to_categorical\r\n",
        "%matplotlib inline"
      ],
      "execution_count": 76,
      "outputs": []
    },
    {
      "cell_type": "markdown",
      "metadata": {
        "id": "OKFeOhTJxOzD"
      },
      "source": [
        "# Load Dataset"
      ]
    },
    {
      "cell_type": "code",
      "metadata": {
        "id": "e9K0VeiOUlat"
      },
      "source": [
        "from keras.datasets import cifar10"
      ],
      "execution_count": 3,
      "outputs": []
    },
    {
      "cell_type": "code",
      "metadata": {
        "colab": {
          "base_uri": "https://localhost:8080/"
        },
        "id": "DJvoA1GsU34j",
        "outputId": "34b74ee3-8b70-4acb-d14b-8fc4bbae4d93"
      },
      "source": [
        "(train_data, train_label), (test_data, test_label) = cifar10.load_data()"
      ],
      "execution_count": 4,
      "outputs": [
        {
          "output_type": "stream",
          "text": [
            "Downloading data from https://www.cs.toronto.edu/~kriz/cifar-10-python.tar.gz\n",
            "170500096/170498071 [==============================] - 3s 0us/step\n"
          ],
          "name": "stdout"
        }
      ]
    },
    {
      "cell_type": "markdown",
      "metadata": {
        "id": "jStQ85jJxYa-"
      },
      "source": [
        "# Explore Data"
      ]
    },
    {
      "cell_type": "code",
      "metadata": {
        "colab": {
          "base_uri": "https://localhost:8080/"
        },
        "id": "1yM1VE3zVLWm",
        "outputId": "dd7c2ffa-1b34-4312-fd3f-996e072da8eb"
      },
      "source": [
        "train_data.shape, train_label.shape, test_data.shape, test_label.shape"
      ],
      "execution_count": 5,
      "outputs": [
        {
          "output_type": "execute_result",
          "data": {
            "text/plain": [
              "((50000, 32, 32, 3), (50000, 1), (10000, 32, 32, 3), (10000, 1))"
            ]
          },
          "metadata": {
            "tags": []
          },
          "execution_count": 5
        }
      ]
    },
    {
      "cell_type": "code",
      "metadata": {
        "colab": {
          "base_uri": "https://localhost:8080/"
        },
        "id": "LjF7m9NCVtPz",
        "outputId": "0045946e-145d-40c7-b735-3e6381eee21a"
      },
      "source": [
        "train_data[0]"
      ],
      "execution_count": 6,
      "outputs": [
        {
          "output_type": "execute_result",
          "data": {
            "text/plain": [
              "array([[[ 59,  62,  63],\n",
              "        [ 43,  46,  45],\n",
              "        [ 50,  48,  43],\n",
              "        ...,\n",
              "        [158, 132, 108],\n",
              "        [152, 125, 102],\n",
              "        [148, 124, 103]],\n",
              "\n",
              "       [[ 16,  20,  20],\n",
              "        [  0,   0,   0],\n",
              "        [ 18,   8,   0],\n",
              "        ...,\n",
              "        [123,  88,  55],\n",
              "        [119,  83,  50],\n",
              "        [122,  87,  57]],\n",
              "\n",
              "       [[ 25,  24,  21],\n",
              "        [ 16,   7,   0],\n",
              "        [ 49,  27,   8],\n",
              "        ...,\n",
              "        [118,  84,  50],\n",
              "        [120,  84,  50],\n",
              "        [109,  73,  42]],\n",
              "\n",
              "       ...,\n",
              "\n",
              "       [[208, 170,  96],\n",
              "        [201, 153,  34],\n",
              "        [198, 161,  26],\n",
              "        ...,\n",
              "        [160, 133,  70],\n",
              "        [ 56,  31,   7],\n",
              "        [ 53,  34,  20]],\n",
              "\n",
              "       [[180, 139,  96],\n",
              "        [173, 123,  42],\n",
              "        [186, 144,  30],\n",
              "        ...,\n",
              "        [184, 148,  94],\n",
              "        [ 97,  62,  34],\n",
              "        [ 83,  53,  34]],\n",
              "\n",
              "       [[177, 144, 116],\n",
              "        [168, 129,  94],\n",
              "        [179, 142,  87],\n",
              "        ...,\n",
              "        [216, 184, 140],\n",
              "        [151, 118,  84],\n",
              "        [123,  92,  72]]], dtype=uint8)"
            ]
          },
          "metadata": {
            "tags": []
          },
          "execution_count": 6
        }
      ]
    },
    {
      "cell_type": "code",
      "metadata": {
        "colab": {
          "base_uri": "https://localhost:8080/"
        },
        "id": "1EI7GGvlamOe",
        "outputId": "48247a45-adbd-4b36-ec4e-81764a89714e"
      },
      "source": [
        "train_label[1]"
      ],
      "execution_count": 7,
      "outputs": [
        {
          "output_type": "execute_result",
          "data": {
            "text/plain": [
              "array([9], dtype=uint8)"
            ]
          },
          "metadata": {
            "tags": []
          },
          "execution_count": 7
        }
      ]
    },
    {
      "cell_type": "code",
      "metadata": {
        "colab": {
          "base_uri": "https://localhost:8080/"
        },
        "id": "sH-goxegWCe9",
        "outputId": "351a963e-0a76-4d60-af26-af59dc289156"
      },
      "source": [
        "np.unique(train_label)"
      ],
      "execution_count": 8,
      "outputs": [
        {
          "output_type": "execute_result",
          "data": {
            "text/plain": [
              "array([0, 1, 2, 3, 4, 5, 6, 7, 8, 9], dtype=uint8)"
            ]
          },
          "metadata": {
            "tags": []
          },
          "execution_count": 8
        }
      ]
    },
    {
      "cell_type": "markdown",
      "metadata": {
        "id": "uz_sypeBxouY"
      },
      "source": [
        "# Visualize samples"
      ]
    },
    {
      "cell_type": "code",
      "metadata": {
        "id": "IslH6MnLXD-O"
      },
      "source": [
        "def plot_sample(data,index):\r\n",
        "  plt.figure(dpi = 20)\r\n",
        "  plt.imshow(data[index])"
      ],
      "execution_count": 9,
      "outputs": []
    },
    {
      "cell_type": "code",
      "metadata": {
        "id": "K_sCyjb7bCOu"
      },
      "source": [
        "def show_class(index):\r\n",
        "  classes = ['airplane', 'automobile', 'bird', 'cat', 'dear', 'dog', 'frog', 'horse', 'ship', 'truck']\r\n",
        "  return classes[index]"
      ],
      "execution_count": 10,
      "outputs": []
    },
    {
      "cell_type": "code",
      "metadata": {
        "colab": {
          "base_uri": "https://localhost:8080/",
          "height": 87
        },
        "id": "DUqJOjr4Weiw",
        "outputId": "ec4a5618-df8d-4552-895d-9b2ddcac2d55"
      },
      "source": [
        "plot_sample(train_data, 0)"
      ],
      "execution_count": 11,
      "outputs": [
        {
          "output_type": "display_data",
          "data": {
            "image/png": "[encoded data removed]",
            "text/plain": [
              "<Figure size 120x80 with 1 Axes>"
            ]
          },
          "metadata": {
            "tags": [],
            "needs_background": "light"
          }
        }
      ]
    },
    {
      "cell_type": "code",
      "metadata": {
        "colab": {
          "base_uri": "https://localhost:8080/",
          "height": 35
        },
        "id": "S5cCztYya5Bo",
        "outputId": "2ff97452-80cd-4e1c-feaa-8d005b2c563a"
      },
      "source": [
        "show_class(np.int(train_label[0]))"
      ],
      "execution_count": 12,
      "outputs": [
        {
          "output_type": "execute_result",
          "data": {
            "application/vnd.google.colaboratory.intrinsic+json": {
              "type": "string"
            },
            "text/plain": [
              "'frog'"
            ]
          },
          "metadata": {
            "tags": []
          },
          "execution_count": 12
        }
      ]
    },
    {
      "cell_type": "markdown",
      "metadata": {
        "id": "iF8YkayzxwUV"
      },
      "source": [
        "# Data Preprocessing"
      ]
    },
    {
      "cell_type": "code",
      "metadata": {
        "id": "JkIjnehtehST"
      },
      "source": [
        "# normalizing training data to scale 0 -1\r\n",
        "train_data_norm = train_data / 255\r\n",
        "test_data_norm = test_data / 255"
      ],
      "execution_count": 13,
      "outputs": []
    },
    {
      "cell_type": "code",
      "metadata": {
        "id": "soDgXXmyhDPB"
      },
      "source": [
        "# one-hot-encode train labels\r\n",
        "train_label_cat = to_categorical(train_label)\r\n",
        "test_label_cat = to_categorical(test_label)"
      ],
      "execution_count": 14,
      "outputs": []
    },
    {
      "cell_type": "code",
      "metadata": {
        "id": "4J2H0Gc7pawf"
      },
      "source": [
        "# split data to train and validation sets\r\n",
        "x_train, x_val, y_train, y_val = train_test_split(train_data_norm, train_label_cat, test_size = 0.25, stratify = train_label)"
      ],
      "execution_count": 45,
      "outputs": []
    },
    {
      "cell_type": "markdown",
      "metadata": {
        "id": "JEEfkzC-yfpL"
      },
      "source": [
        "# Build Model"
      ]
    },
    {
      "cell_type": "code",
      "metadata": {
        "id": "RzTzvuaGh1YP"
      },
      "source": [
        "def build_model():\r\n",
        "  model = Sequential()\r\n",
        "\r\n",
        "  #CNN layers\r\n",
        "  model.add(Conv2D(50, kernel_size=(3,3), strides=(1,1), padding='same', activation='relu', input_shape=(32, 32, 3)))\r\n",
        "\r\n",
        "  model.add(Conv2D(75, kernel_size=(3,3), strides=(1,1), padding ='same', activation='relu'))\r\n",
        "  model.add(MaxPool2D(pool_size = (2,2)))\r\n",
        "  model.add(Dropout(0.25))\r\n",
        "\r\n",
        "  model.add(Conv2D(125, kernel_size =(3,3), strides = (1,1), padding ='same', activation='relu'))\r\n",
        "  model.add(MaxPool2D(pool_size = (2,2)))\r\n",
        "  model.add(Dropout(0.25))\r\n",
        "\r\n",
        "  model.add(Flatten())\r\n",
        "  \r\n",
        "  # Dense Layers\r\n",
        "  # Input Layers\r\n",
        "  model.add(Dense(1000, activation='relu'))\r\n",
        "  model.add(Dropout(0.4))\r\n",
        "  \r\n",
        "  # Hidden Layers\r\n",
        "  model.add(Dense(500, activation='relu'))\r\n",
        "  model.add(Dropout(0.4))\r\n",
        "\r\n",
        "  model.add(Dense(250, activation ='relu'))\r\n",
        "  model.add(Dropout(0.3))\r\n",
        "\r\n",
        "  # Output layer\r\n",
        "  model.add(Dense(10, activation ='softmax'))\r\n",
        "  model.summary()\r\n",
        "\r\n",
        "  # Complile model\r\n",
        "  model.compile(loss='categorical_crossentropy',optimizer = 'rmsprop', metrics = ['accuracy'] )\r\n",
        "  return model\r\n"
      ],
      "execution_count": 44,
      "outputs": []
    },
    {
      "cell_type": "code",
      "metadata": {
        "id": "hsbuK2B-pT9s"
      },
      "source": [
        "model = build_model()\r\n",
        "\r\n",
        "# fit model\r\n",
        "history = model.fit(x_train, y_train, epochs = 25, validation_data = (x_val, y_val), batch_size = 128)"
      ],
      "execution_count": null,
      "outputs": []
    },
    {
      "cell_type": "markdown",
      "metadata": {
        "id": "NRAsvfPzzgjq"
      },
      "source": [
        "# Visualize Model Performance"
      ]
    },
    {
      "cell_type": "code",
      "metadata": {
        "id": "EyfpBrUBx8DI"
      },
      "source": [
        "val_loss = history.history['val_loss']\r\n",
        "epochs = range(1, len(val_loss)+ 1)"
      ],
      "execution_count": 47,
      "outputs": []
    },
    {
      "cell_type": "code",
      "metadata": {
        "colab": {
          "base_uri": "https://localhost:8080/",
          "height": 382
        },
        "id": "zC0hWATzyqaO",
        "outputId": "73ce9fab-59e0-4786-8533-3557e7132544"
      },
      "source": [
        "plt.figure(dpi = 100)\r\n",
        "plt.plot(epochs, val_loss)\r\n",
        "plt.ylabel('val_loss')\r\n",
        "plt.xlabel('epoch')\r\n",
        "plt.show()"
      ],
      "execution_count": 48,
      "outputs": [
        {
          "output_type": "display_data",
          "data": {
            "image/png": "[encoded data removed]",
            "text/plain": [
              "<Figure size 600x400 with 1 Axes>"
            ]
          },
          "metadata": {
            "tags": [],
            "needs_background": "light"
          }
        }
      ]
    },
    {
      "cell_type": "markdown",
      "metadata": {
        "id": "9sTqftdqzuQv"
      },
      "source": [
        "# Re-train model on the original dataset"
      ]
    },
    {
      "cell_type": "code",
      "metadata": {
        "id": "mqijQHs7hYee"
      },
      "source": [
        "model = build_model()\r\n",
        "model.fit(train_data_norm, train_label_cat, epochs = 11, batch_size = 128)"
      ],
      "execution_count": null,
      "outputs": []
    },
    {
      "cell_type": "markdown",
      "metadata": {
        "id": "5lphxFG8z8iT"
      },
      "source": [
        "# Model Testing and Evaluation"
      ]
    },
    {
      "cell_type": "code",
      "metadata": {
        "colab": {
          "base_uri": "https://localhost:8080/",
          "height": 35
        },
        "id": "arVx9OyyiZK5",
        "outputId": "e40ec7bc-d98b-4e75-bfe4-4c189e000594"
      },
      "source": [
        "show_class(np.argmax(model.predict(test_data_norm)[10]))"
      ],
      "execution_count": 54,
      "outputs": [
        {
          "output_type": "execute_result",
          "data": {
            "application/vnd.google.colaboratory.intrinsic+json": {
              "type": "string"
            },
            "text/plain": [
              "'airplane'"
            ]
          },
          "metadata": {
            "tags": []
          },
          "execution_count": 54
        }
      ]
    },
    {
      "cell_type": "code",
      "metadata": {
        "colab": {
          "base_uri": "https://localhost:8080/",
          "height": 35
        },
        "id": "7vWt1PxBjnId",
        "outputId": "3c971fda-3660-4646-cdc7-5d37be6f6369"
      },
      "source": [
        "show_class(np.int(test_label[10]))"
      ],
      "execution_count": 57,
      "outputs": [
        {
          "output_type": "execute_result",
          "data": {
            "application/vnd.google.colaboratory.intrinsic+json": {
              "type": "string"
            },
            "text/plain": [
              "'airplane'"
            ]
          },
          "metadata": {
            "tags": []
          },
          "execution_count": 57
        }
      ]
    },
    {
      "cell_type": "code",
      "metadata": {
        "colab": {
          "base_uri": "https://localhost:8080/"
        },
        "id": "XsXDpwnxhlfB",
        "outputId": "eae522f7-22f0-4b09-f917-7125a1d51372"
      },
      "source": [
        "model.evaluate(test_data_norm, test_label_cat)"
      ],
      "execution_count": 50,
      "outputs": [
        {
          "output_type": "stream",
          "text": [
            "313/313 [==============================] - 1s 4ms/step - loss: 0.7831 - accuracy: 0.7398\n"
          ],
          "name": "stdout"
        },
        {
          "output_type": "execute_result",
          "data": {
            "text/plain": [
              "[0.7830925583839417, 0.739799976348877]"
            ]
          },
          "metadata": {
            "tags": []
          },
          "execution_count": 50
        }
      ]
    },
    {
      "cell_type": "code",
      "metadata": {
        "colab": {
          "base_uri": "https://localhost:8080/"
        },
        "id": "VkLddrX8niZT",
        "outputId": "18ed54be-c272-4ce6-e1ab-bc172fa42350"
      },
      "source": [
        "y_pred = model.predict(test_data_norm)\r\n",
        "y_pred_labels = [np.argmax(pred) for pred in y_pred]\r\n",
        "y_pred_labels[:5]"
      ],
      "execution_count": 92,
      "outputs": [
        {
          "output_type": "execute_result",
          "data": {
            "text/plain": [
              "[3, 8, 0, 0, 6]"
            ]
          },
          "metadata": {
            "tags": []
          },
          "execution_count": 92
        }
      ]
    },
    {
      "cell_type": "code",
      "metadata": {
        "colab": {
          "base_uri": "https://localhost:8080/"
        },
        "id": "jvVWzdamtiIi",
        "outputId": "a4cd721b-a06d-497d-ecb5-dc1c10d1fbd1"
      },
      "source": [
        "test_label[:5]"
      ],
      "execution_count": 98,
      "outputs": [
        {
          "output_type": "execute_result",
          "data": {
            "text/plain": [
              "array([[3],\n",
              "       [8],\n",
              "       [8],\n",
              "       [0],\n",
              "       [6]], dtype=uint8)"
            ]
          },
          "metadata": {
            "tags": []
          },
          "execution_count": 98
        }
      ]
    },
    {
      "cell_type": "markdown",
      "metadata": {
        "id": "eUbbIJEH0QXh"
      },
      "source": [
        "# Visualize Model Evaluation"
      ]
    },
    {
      "cell_type": "code",
      "metadata": {
        "id": "-SnABAC2iN5a"
      },
      "source": [
        "cm = confusion_matrix(test_label, y_pred_labels)"
      ],
      "execution_count": 96,
      "outputs": []
    },
    {
      "cell_type": "code",
      "metadata": {
        "colab": {
          "base_uri": "https://localhost:8080/",
          "height": 405
        },
        "id": "wFNQBYEKmsQh",
        "outputId": "a857a588-c43e-4d64-8b99-fd9e5961d46c"
      },
      "source": [
        "plt.figure(figsize = (15, 6))\r\n",
        "sns.heatmap(cm, annot=True, fmt = 'd')\r\n",
        "plt.ylabel('True')\r\n",
        "plt.xlabel('Predicted')"
      ],
      "execution_count": 86,
      "outputs": [
        {
          "output_type": "execute_result",
          "data": {
            "text/plain": [
              "Text(0.5, 33.0, 'Predicted')"
            ]
          },
          "metadata": {
            "tags": []
          },
          "execution_count": 86
        },
        {
          "output_type": "display_data",
          "data": {
            "image/png": "[encoded data removed]",
            "text/plain": [
              "<Figure size 1080x432 with 2 Axes>"
            ]
          },
          "metadata": {
            "tags": [],
            "needs_background": "light"
          }
        }
      ]
    }
  ]
}
