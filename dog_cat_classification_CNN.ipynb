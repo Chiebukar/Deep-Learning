{
  "nbformat": 4,
  "nbformat_minor": 0,
  "metadata": {
    "colab": {
      "name": "dog_cat_classification_CNN.ipynb",
      "provenance": [],
      "collapsed_sections": [],
      "authorship_tag": "ABX9TyMDMwJQmFS7pXCsKH0sgmKG",
      "include_colab_link": true
    },
    "kernelspec": {
      "name": "python3",
      "display_name": "Python 3"
    },
    "accelerator": "GPU"
  },
  "cells": [
    {
      "cell_type": "markdown",
      "metadata": {
        "id": "view-in-github",
        "colab_type": "text"
      },
      "source": [
        "<a href=\"https://colab.research.google.com/github/Chiebukar/Deep-Learning/blob/main/dog_cat_classification_CNN.ipynb\" target=\"_parent\"><img src=\"https://colab.research.google.com/assets/colab-badge.svg\" alt=\"Open In Colab\"/></a>"
      ]
    },
    {
      "cell_type": "code",
      "metadata": {
        "id": "knIlYiCo7kK_"
      },
      "source": [
        "from google.colab import files\r\n",
        "files.upload()"
      ],
      "execution_count": null,
      "outputs": []
    },
    {
      "cell_type": "code",
      "metadata": {
        "id": "CocIgyFo8CdE"
      },
      "source": [
        "!mkdir -p ~/.kaggle\r\n",
        "!cp kaggle.json ~/.kaggle/\r\n",
        "!chmod 600 ~/.kaggle/kaggle.json"
      ],
      "execution_count": 2,
      "outputs": []
    },
    {
      "cell_type": "code",
      "metadata": {
        "colab": {
          "base_uri": "https://localhost:8080/"
        },
        "id": "gBSBeJDF8u6u",
        "outputId": "d0ca4c64-dc5f-440b-d369-1363206e0649"
      },
      "source": [
        "!kaggle datasets download -d arnaudeq/cats-vs-dogs-5000"
      ],
      "execution_count": 3,
      "outputs": [
        {
          "output_type": "stream",
          "text": [
            "Downloading cats-vs-dogs-5000.zip to /content\n",
            " 99% 521M/527M [00:02<00:00, 249MB/s]\n",
            "100% 527M/527M [00:02<00:00, 242MB/s]\n"
          ],
          "name": "stdout"
        }
      ]
    },
    {
      "cell_type": "code",
      "metadata": {
        "colab": {
          "base_uri": "https://localhost:8080/"
        },
        "id": "ZqvpNuzX-lAw",
        "outputId": "048c6b09-b745-4b8c-b58d-5739d7c50afc"
      },
      "source": [
        "!ls -d $PWD/*"
      ],
      "execution_count": 4,
      "outputs": [
        {
          "output_type": "stream",
          "text": [
            "/content/cats-vs-dogs-5000.zip\t/content/kaggle.json  /content/sample_data\n"
          ],
          "name": "stdout"
        }
      ]
    },
    {
      "cell_type": "code",
      "metadata": {
        "id": "sYTvg0wP_db2"
      },
      "source": [
        "!unzip \\*.zip && rm *.zip"
      ],
      "execution_count": null,
      "outputs": []
    },
    {
      "cell_type": "code",
      "metadata": {
        "colab": {
          "base_uri": "https://localhost:8080/"
        },
        "id": "5-8uCCie_f0_",
        "outputId": "122d9fa4-0041-43e3-c3e6-10db6875695f"
      },
      "source": [
        "!ls -d $PWD/*"
      ],
      "execution_count": 6,
      "outputs": [
        {
          "output_type": "stream",
          "text": [
            "/content/dogs_cats_sample_5000\t/content/kaggle.json  /content/sample_data\n"
          ],
          "name": "stdout"
        }
      ]
    },
    {
      "cell_type": "code",
      "metadata": {
        "id": "i3XHtMAzOncd"
      },
      "source": [
        "train_dir = 'dogs_cats_sample_5000/train'\r\n",
        "validation_dir  = 'dogs_cats_sample_5000/valid'"
      ],
      "execution_count": 7,
      "outputs": []
    },
    {
      "cell_type": "code",
      "metadata": {
        "id": "sH_lMNZD_sNp"
      },
      "source": [
        "import numpy as np\r\n",
        "import pandas as pd\r\n",
        "import matplotlib.pyplot as plt\r\n",
        "import tensorflow as tf\r\n",
        "from tensorflow import keras\r\n",
        "from keras.models import Sequential\r\n",
        "from keras.layers import Dense, Flatten, Conv2D, MaxPooling2D, Dropout\r\n",
        "from keras.preprocessing.image import ImageDataGenerator\r\n",
        "from keras import optimizers"
      ],
      "execution_count": 8,
      "outputs": []
    },
    {
      "cell_type": "code",
      "metadata": {
        "colab": {
          "base_uri": "https://localhost:8080/"
        },
        "id": "WLEQvmfjBpPu",
        "outputId": "cb7a0b42-bcfe-4699-a197-7456ea76148f"
      },
      "source": [
        "model = Sequential()\r\n",
        "model.add(Conv2D(32, kernel_size = (3,3), activation='relu', input_shape = (150, 150, 3)))\r\n",
        "model.add(MaxPooling2D(2,2))\r\n",
        "\r\n",
        "model.add(Conv2D(64, kernel_size=(3,3), activation='relu'))\r\n",
        "model.add(MaxPooling2D(2,2))\r\n",
        "\r\n",
        "model.add(Conv2D(128, kernel_size=(3,3), activation='relu'))\r\n",
        "model.add(MaxPooling2D(2,2))\r\n",
        "\r\n",
        "model.add(Conv2D(512, kernel_size=(3,3), activation='relu'))\r\n",
        "model.add(MaxPooling2D(2,2))\r\n",
        "\r\n",
        "model.add(Flatten())\r\n",
        "\r\n",
        "model.add(Dense(512, activation ='relu'))\r\n",
        "model.add(Dense(1, activation='sigmoid'))\r\n",
        "\r\n",
        "model.summary()"
      ],
      "execution_count": 9,
      "outputs": [
        {
          "output_type": "stream",
          "text": [
            "Model: \"sequential\"\n",
            "_________________________________________________________________\n",
            "Layer (type)                 Output Shape              Param #   \n",
            "=================================================================\n",
            "conv2d (Conv2D)              (None, 148, 148, 32)      896       \n",
            "_________________________________________________________________\n",
            "max_pooling2d (MaxPooling2D) (None, 74, 74, 32)        0         \n",
            "_________________________________________________________________\n",
            "conv2d_1 (Conv2D)            (None, 72, 72, 64)        18496     \n",
            "_________________________________________________________________\n",
            "max_pooling2d_1 (MaxPooling2 (None, 36, 36, 64)        0         \n",
            "_________________________________________________________________\n",
            "conv2d_2 (Conv2D)            (None, 34, 34, 128)       73856     \n",
            "_________________________________________________________________\n",
            "max_pooling2d_2 (MaxPooling2 (None, 17, 17, 128)       0         \n",
            "_________________________________________________________________\n",
            "conv2d_3 (Conv2D)            (None, 15, 15, 512)       590336    \n",
            "_________________________________________________________________\n",
            "max_pooling2d_3 (MaxPooling2 (None, 7, 7, 512)         0         \n",
            "_________________________________________________________________\n",
            "flatten (Flatten)            (None, 25088)             0         \n",
            "_________________________________________________________________\n",
            "dense (Dense)                (None, 512)               12845568  \n",
            "_________________________________________________________________\n",
            "dense_1 (Dense)              (None, 1)                 513       \n",
            "=================================================================\n",
            "Total params: 13,529,665\n",
            "Trainable params: 13,529,665\n",
            "Non-trainable params: 0\n",
            "_________________________________________________________________\n"
          ],
          "name": "stdout"
        }
      ]
    },
    {
      "cell_type": "code",
      "metadata": {
        "id": "jtt37YrQE7k2"
      },
      "source": [
        "model.compile(loss= 'binary_crossentropy', optimizer= 'rmsprop', metrics=['accuracy'])"
      ],
      "execution_count": 10,
      "outputs": []
    },
    {
      "cell_type": "code",
      "metadata": {
        "colab": {
          "base_uri": "https://localhost:8080/"
        },
        "id": "8leShvX8Ig0D",
        "outputId": "a9b273ef-3edd-4b20-bae2-b6409956b952"
      },
      "source": [
        "# create data generator object and set scaling\r\n",
        "train_datagen = ImageDataGenerator(rescale = 1./255)\r\n",
        "val_datagen = ImageDataGenerator(rescale = 1./255)\r\n",
        "\r\n",
        "train_generator = train_datagen.flow_from_directory(\r\n",
        "                                                   train_dir,\r\n",
        "                                                   target_size = (150,150),\r\n",
        "                                                   batch_size = 20,\r\n",
        "                                                   class_mode = 'binary'\r\n",
        "                                                   )\r\n",
        "\r\n",
        "validation_generator = val_datagen.flow_from_directory(\r\n",
        "                                                   validation_dir,\r\n",
        "                                                   target_size = (150,150),\r\n",
        "                                                   batch_size = 20,\r\n",
        "                                                   class_mode = 'binary'\r\n",
        "                                                   )"
      ],
      "execution_count": 11,
      "outputs": [
        {
          "output_type": "stream",
          "text": [
            "Found 10000 images belonging to 2 classes.\n",
            "Found 2000 images belonging to 2 classes.\n"
          ],
          "name": "stdout"
        }
      ]
    },
    {
      "cell_type": "code",
      "metadata": {
        "colab": {
          "base_uri": "https://localhost:8080/"
        },
        "id": "BrF3tQ-GPnsc",
        "outputId": "99d04ebc-8a77-477e-dae7-5ce739158707"
      },
      "source": [
        "for data_batch, labels_batch in train_generator:\r\n",
        "  print('data batch shape', data_batch.shape)\r\n",
        "  print('data label shape', labels_batch.shape)\r\n",
        "  break"
      ],
      "execution_count": 12,
      "outputs": [
        {
          "output_type": "stream",
          "text": [
            "data batch shape (20, 150, 150, 3)\n",
            "data label shape (20,)\n"
          ],
          "name": "stdout"
        }
      ]
    },
    {
      "cell_type": "code",
      "metadata": {
        "id": "3b-dUtuyTMbH"
      },
      "source": [
        "history = model.fit_generator(train_generator, steps_per_epoch=100, \r\n",
        "                              epochs=30, validation_data=validation_generator, \r\n",
        "                              validation_steps=50)\r\n"
      ],
      "execution_count": null,
      "outputs": []
    },
    {
      "cell_type": "code",
      "metadata": {
        "id": "Rb-JpJ-3sFiS"
      },
      "source": [
        "model.save('cats_and_dogs_small_1.h5')"
      ],
      "execution_count": 14,
      "outputs": []
    },
    {
      "cell_type": "code",
      "metadata": {
        "id": "USpFzLH_sWc_"
      },
      "source": [
        "acc = history.history['accuracy'] \r\n",
        "val_acc = history.history['val_accuracy'] \r\n",
        "loss = history.history['loss'] \r\n",
        "val_loss = history.history['val_loss'] \r\n",
        "epochs = range(1, len(acc) + 1)"
      ],
      "execution_count": 15,
      "outputs": []
    },
    {
      "cell_type": "code",
      "metadata": {
        "colab": {
          "base_uri": "https://localhost:8080/",
          "height": 281
        },
        "id": "7M6dRYzCtD7d",
        "outputId": "3a04451e-c52e-4cd4-8814-03f98f90a329"
      },
      "source": [
        "plt.plot(epochs, acc, 'bo', label='Training acc')\r\n",
        "plt.plot(epochs, val_acc, 'b', label='Validation acc')\r\n",
        "plt.title('Training and validation accuracy') \r\n",
        "plt.legend()\r\n",
        "\r\n",
        "plt.show()"
      ],
      "execution_count": 16,
      "outputs": [
        {
          "output_type": "display_data",
          "data": {
            "image/png": "[encoded data removed]",
            "text/plain": [
              "<Figure size 432x288 with 1 Axes>"
            ]
          },
          "metadata": {
            "tags": [],
            "needs_background": "light"
          }
        }
      ]
    },
    {
      "cell_type": "code",
      "metadata": {
        "colab": {
          "base_uri": "https://localhost:8080/",
          "height": 281
        },
        "id": "p4pfvMz8tUzz",
        "outputId": "0b29195f-3528-4a22-bf30-2742d3af96c3"
      },
      "source": [
        "plt.plot(epochs, loss, 'bo', label='Training loss') \r\n",
        "plt.plot(epochs, val_loss, 'b', label='Validation loss') \r\n",
        "plt.title('Training and validation loss') \r\n",
        "plt.legend() \r\n",
        "\r\n",
        "plt.show()"
      ],
      "execution_count": 17,
      "outputs": [
        {
          "output_type": "display_data",
          "data": {
            "image/png": "[encoded data removed]",
            "text/plain": [
              "<Figure size 432x288 with 1 Axes>"
            ]
          },
          "metadata": {
            "tags": [],
            "needs_background": "light"
          }
        }
      ]
    },
    {
      "cell_type": "markdown",
      "metadata": {
        "id": "43AM478cx2yC"
      },
      "source": [
        "Data Augmentation"
      ]
    },
    {
      "cell_type": "code",
      "metadata": {
        "id": "IaJY5I9Ly75q"
      },
      "source": [
        "train_datagen = ImageDataGenerator(rescale=1./255, rotation_range=40, width_shift_range=0.2, \r\n",
        "                                   height_shift_range=0.2, shear_range=0.2, zoom_range=0.2, \r\n",
        "                                   horizontal_flip=True)\r\n",
        "\r\n",
        "val_datagen = ImageDataGenerator(rescale=1./255)"
      ],
      "execution_count": 18,
      "outputs": []
    },
    {
      "cell_type": "code",
      "metadata": {
        "colab": {
          "base_uri": "https://localhost:8080/"
        },
        "id": "v5NJ1OUw1jnq",
        "outputId": "4008a680-6a7d-42db-8637-4806c607e003"
      },
      "source": [
        "train_generator= train_datagen.flow_from_directory(train_dir,\r\n",
        "                                                   target_size = (150,150),\r\n",
        "                                                   batch_size = 32,\r\n",
        "                                                   class_mode = 'binary'\r\n",
        "                                                   )\r\n",
        "validation_generator= val_datagen.flow_from_directory(validation_dir,\r\n",
        "                                                      target_size = (150,150),\r\n",
        "                                                      batch_size = 32,\r\n",
        "                                                      class_mode = 'binary'\r\n",
        "                                                     )"
      ],
      "execution_count": 19,
      "outputs": [
        {
          "output_type": "stream",
          "text": [
            "Found 10000 images belonging to 2 classes.\n",
            "Found 2000 images belonging to 2 classes.\n"
          ],
          "name": "stdout"
        }
      ]
    },
    {
      "cell_type": "code",
      "metadata": {
        "colab": {
          "base_uri": "https://localhost:8080/"
        },
        "id": "3oBOV5Ih0Fr3",
        "outputId": "a5378804-e74e-4af3-aad5-805649fc4397"
      },
      "source": [
        "for data_batch, labels_batch in train_generator:\r\n",
        "  print('data batch shape', data_batch.shape)\r\n",
        "  print('data label shape', labels_batch.shape)\r\n",
        "  break"
      ],
      "execution_count": 20,
      "outputs": [
        {
          "output_type": "stream",
          "text": [
            "data batch shape (32, 150, 150, 3)\n",
            "data label shape (32,)\n"
          ],
          "name": "stdout"
        }
      ]
    },
    {
      "cell_type": "code",
      "metadata": {
        "id": "edSeqkg7BstQ"
      },
      "source": [
        "model = Sequential() \r\n",
        "model.add(Conv2D(32, (3, 3), activation='relu', input_shape=(150, 150, 3)))\r\n",
        "model.add(MaxPooling2D((2, 2)))\r\n",
        "\r\n",
        "model.add(Conv2D(64, (3, 3), activation='relu')) \r\n",
        "model.add(MaxPooling2D((2, 2))) \r\n",
        "\r\n",
        "model.add(Conv2D(128, (3, 3), activation='relu')) \r\n",
        "model.add(MaxPooling2D((2, 2))) \r\n",
        "\r\n",
        "model.add(Conv2D(128, (3, 3), activation='relu')) \r\n",
        "model.add(MaxPooling2D((2, 2))) \r\n",
        "\r\n",
        "model.add(Flatten()) \r\n",
        "model.add(Dropout(0.5))\r\n",
        "\r\n",
        "model.add(Dense(512, activation='relu')) \r\n",
        "model.add(Dense(1, activation='sigmoid')) \r\n",
        "model.compile(loss='binary_crossentropy', optimizer=optimizers.RMSprop(lr=1e-4), metrics=['acc'])"
      ],
      "execution_count": 21,
      "outputs": []
    },
    {
      "cell_type": "code",
      "metadata": {
        "id": "TGZ6Rqnh7Ma2"
      },
      "source": [
        "history = model.fit_generator(train_generator, steps_per_epoch=100, \r\n",
        "                              epochs=50, validation_data=validation_generator, \r\n",
        "                              validation_steps=50)"
      ],
      "execution_count": null,
      "outputs": []
    },
    {
      "cell_type": "code",
      "metadata": {
        "id": "uh2fKxsY7fBA"
      },
      "source": [
        "model.save('cats_and_dogs_small_2.h5')"
      ],
      "execution_count": 23,
      "outputs": []
    },
    {
      "cell_type": "code",
      "metadata": {
        "id": "-ZJrZj3G705M"
      },
      "source": [
        "acc = history.history['acc'] \r\n",
        "val_acc = history.history['val_acc'] \r\n",
        "loss = history.history['loss'] \r\n",
        "val_loss = history.history['val_loss'] \r\n",
        "epochs = range(1, len(acc) + 1)"
      ],
      "execution_count": 24,
      "outputs": []
    },
    {
      "cell_type": "code",
      "metadata": {
        "colab": {
          "base_uri": "https://localhost:8080/",
          "height": 281
        },
        "id": "VM1CoyKB78j2",
        "outputId": "6b2789b0-2fdc-4e2d-970b-a0599636c457"
      },
      "source": [
        "plt.plot(epochs, acc, 'bo', label='Training acc')\r\n",
        "plt.plot(epochs, val_acc, 'b', label='Validation acc')\r\n",
        "plt.title('Training and validation accuracy') \r\n",
        "plt.legend()\r\n",
        "\r\n",
        "plt.show()"
      ],
      "execution_count": 25,
      "outputs": [
        {
          "output_type": "display_data",
          "data": {
            "image/png": "[encoded data removed]",
            "text/plain": [
              "<Figure size 432x288 with 1 Axes>"
            ]
          },
          "metadata": {
            "tags": [],
            "needs_background": "light"
          }
        }
      ]
    },
    {
      "cell_type": "code",
      "metadata": {
        "colab": {
          "base_uri": "https://localhost:8080/",
          "height": 281
        },
        "id": "w08pY-pd8GRW",
        "outputId": "3ca910b6-3fff-4bc5-8a69-72c28744202e"
      },
      "source": [
        "plt.plot(epochs, loss, 'bo', label='Training loss') \r\n",
        "plt.plot(epochs, val_loss, 'b', label='Validation loss') \r\n",
        "plt.title('Training and validation loss') \r\n",
        "plt.legend() \r\n",
        "\r\n",
        "plt.show()\r\n",
        "\r\n"
      ],
      "execution_count": 26,
      "outputs": [
        {
          "output_type": "display_data",
          "data": {
            "image/png": "[encoded data removed]",
            "text/plain": [
              "<Figure size 432x288 with 1 Axes>"
            ]
          },
          "metadata": {
            "tags": [],
            "needs_background": "light"
          }
        }
      ]
    }
  ]
}